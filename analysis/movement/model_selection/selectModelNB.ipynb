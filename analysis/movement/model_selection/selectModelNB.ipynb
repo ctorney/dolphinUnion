{
 "cells": [
  {
   "cell_type": "code",
   "execution_count": 1,
   "metadata": {
    "collapsed": false
   },
   "outputs": [],
   "source": [
    "import pymc,imp\n",
    "from pymc import MAP"
   ]
  },
  {
   "cell_type": "markdown",
   "metadata": {},
   "source": [
    "Basic model - correlated random walk\n",
    "====================\n",
    "parameters\n",
    "-------------- \n",
    "$\\rho_m$ - Cauchy parameter that specifies degree of correlation between successive steps"
   ]
  },
  {
   "cell_type": "code",
   "execution_count": 2,
   "metadata": {
    "collapsed": false
   },
   "outputs": [
    {
     "name": "stdout",
     "output_type": "stream",
     "text": [
      "-16427.431791779964\n",
      "-16419.6441641\n",
      "--------\n",
      "0.9324389388365363\n"
     ]
    }
   ],
   "source": [
    "import corRandomWalk\n",
    "\n",
    "CRW = MAP(corRandomWalk)\n",
    "CRW.fit()\n",
    "\n",
    "print(CRW.AIC)\n",
    "print(CRW.BIC)\n",
    "print('--------')\n",
    "print(CRW.rho_m.value) \n"
   ]
  },
  {
   "cell_type": "markdown",
   "metadata": {},
   "source": [
    "Environment model\n",
    "==========\n",
    "parameters\n",
    "-----------\n",
    "$\\rho_m$ - Cauchy parameter that specifies degree of correlation between successive steps\n",
    "\n",
    "$\\rho_e$ - parameter that relates assumed environmental features to heading\n",
    "\n",
    "$\\beta$ - relative weighting of Cauchy distributions"
   ]
  },
  {
   "cell_type": "code",
   "execution_count": 3,
   "metadata": {
    "collapsed": false
   },
   "outputs": [
    {
     "name": "stdout",
     "output_type": "stream",
     "text": [
      "-17393.372881481562\n",
      "-17377.7976261\n",
      "--------\n",
      "0.9338765704054016\n",
      "0.1069833234354046\n"
     ]
    }
   ],
   "source": [
    "import environment\n",
    "imp.reload(environment)\n",
    "E = MAP(environment)\n",
    "E.fit()\n",
    "print(E.AIC)\n",
    "print(E.BIC)\n",
    "print('--------')\n",
    "print(E.rho_m.value) \n",
    "print(E.beta.value)\n"
   ]
  },
  {
   "cell_type": "markdown",
   "metadata": {},
   "source": [
    "Social models\n",
    "========\n",
    "\n",
    "All models use the following parameters\n",
    "\n",
    "$\\rho_s$ - bias in Caucy distribution (how predictive of movement step is social vector)\n",
    "\n",
    "$\\rho_m$ - Cauchy parameter that specifies degree of correlation between successive steps\n",
    "\n",
    "$\\rho_e$ - parameter that relates assumed environmental features to heading\n",
    "\n",
    "$\\alpha$ - relative weighting of social to env/persistence distributions\n",
    "\n",
    "$\\beta$ - relative weighting of env and persistence distributions\n"
   ]
  },
  {
   "cell_type": "markdown",
   "metadata": {},
   "source": [
    "Social interaction rules\n",
    "=============\n",
    "\n",
    "Model 1\n",
    "--------\n",
    "\n",
    "Social vector is the average of relative positions to all neighbours within a constant interaction range\n",
    "\n",
    "$I_D$ is the maximum interaction distance\n",
    "\n",
    "$I_A$ is the maximum interaction angle either side of the centre of the animal\n",
    "\n",
    "$I_R$ is the zone within which neighbours are ignored\n",
    "\n"
   ]
  },
  {
   "cell_type": "code",
   "execution_count": 5,
   "metadata": {
    "collapsed": false
   },
   "outputs": [
    {
     "name": "stdout",
     "output_type": "stream",
     "text": [
      "-19038.687687290185\n",
      "-18991.9619213\n",
      "--------\n",
      "0.9383708263626862\n",
      "0.38752073663097736\n",
      "0.09531015790514134\n",
      "--------\n",
      "10.125004875240155\n",
      "0.25182095752199823\n",
      "1.3055450969148\n"
     ]
    }
   ],
   "source": [
    "import constantModel\n",
    "imp.reload(constantModel)\n",
    "CM = MAP(constantModel)\n",
    "CM.fit()\n",
    "print(CM.AIC)\n",
    "print(CM.BIC)\n",
    "print('--------')\n",
    "print(CM.rho_s.value)\n",
    "print(CM.alpha.value) \n",
    "print(CM.beta.value) \n",
    "print('--------')\n",
    "print(CM.interaction_length.value)\n",
    "print(CM.interaction_angle.value)\n",
    "print(CM.ignore_length.value)"
   ]
  },
  {
   "cell_type": "markdown",
   "metadata": {},
   "source": [
    "Model 2\n",
    "--------\n",
    "\n",
    "Social vector is the weighted average of position of a point each neighbour is heading towards within a constant interaction range\n",
    "\n",
    "$I_D$ is the maximum interaction distance\n",
    "\n",
    "$I_A$ is the maximum interaction angle either side of the centre of the animal\n",
    "\n",
    "$I_R$ is the zone within which neighbours are ignored\n",
    "\n",
    "$Al_W$ is the relative weight of attraction and alignment\n",
    "\n",
    "\n"
   ]
  },
  {
   "cell_type": "code",
   "execution_count": 6,
   "metadata": {
    "collapsed": false
   },
   "outputs": [
    {
     "name": "stdout",
     "output_type": "stream",
     "text": [
      "-19723.12815388182\n",
      "-19668.6147602\n",
      "--------\n",
      "0.9394903348471414\n",
      "0.462886318864657\n",
      "0.08589123014557498\n",
      "--------\n",
      "6.869008679476669\n",
      "0.2753562886474974\n",
      "1.6132252719081068\n",
      "0.3552316051689316\n"
     ]
    }
   ],
   "source": [
    "import constantModelAlign\n",
    "import imp\n",
    "import pymc \n",
    "from pymc import MAP\n",
    "imp.reload(constantModelAlign)\n",
    "\n",
    "CMA = MAP(constantModelAlign)\n",
    "CMA.fit()\n",
    "print(CMA.AIC)\n",
    "print(CMA.BIC)\n",
    "print('--------')\n",
    "print(CMA.rho_s.value)\n",
    "print(CMA.alpha.value) \n",
    "print(CMA.beta.value) \n",
    "print('--------')\n",
    "print(CMA.attract_length.value)\n",
    "print(CMA.attract_angle.value)\n",
    "print(CMA.align_weight.value)\n",
    "print(CMA.ignore_length.value)\n"
   ]
  },
  {
   "cell_type": "markdown",
   "metadata": {},
   "source": [
    "Model 3\n",
    "--------\n",
    "\n",
    "Social vector is the average of relative positions to all neighbours weighted according to an exponential decay\n",
    "\n",
    "$I_A$ is the maximum attraction angle either side of the centre of the animal\n",
    "\n",
    "The weighting given to each neighbour is \n",
    "\n",
    "$\\omega_i =  \\exp\\left(-\\left(\\frac{D}{I_D}\\right)^\\gamma\\right)$\n",
    "\n",
    "$\\gamma$ decay exponent\n",
    "\n",
    "$I_D$ peak distance\n",
    "\n"
   ]
  },
  {
   "cell_type": "code",
   "execution_count": 9,
   "metadata": {
    "collapsed": false
   },
   "outputs": [
    {
     "name": "stdout",
     "output_type": "stream",
     "text": [
      "-18922.89526721578\n",
      "-18868.3818736\n",
      "--------\n",
      "0.9377998699761921\n",
      "0.26536100198818624\n",
      "--------\n",
      "2.2609697378156235\n",
      "7.063042262434437\n",
      "0.28106565292218344\n"
     ]
    }
   ],
   "source": [
    "import decayModel\n",
    "imp.reload(decayModel)\n",
    "DM = MAP(decayModel)\n",
    "DM.fit()\n",
    "print(DM.AIC)\n",
    "print(DM.BIC)\n",
    "print('--------')\n",
    "print(DM.rho_s.value)\n",
    "print(DM.alpha.value) \n",
    "print('--------')\n",
    "print(DM.decay_exponent.value)\n",
    "print(DM.interaction_length.value)\n",
    "print(DM.interaction_angle.value)\n"
   ]
  },
  {
   "cell_type": "markdown",
   "metadata": {},
   "source": [
    "Model 4\n",
    "--------\n",
    "\n",
    "Social vector is the weighted average of relative positions to a point each neighbour is heading towards (i.e. includes alignment force) weighted with an exponential decay according to distance\n",
    "\n",
    "\n",
    "\n",
    "$I_A$ is the maximum attraction angle either side of the centre of the animal\n",
    "\n",
    "\n",
    "$Al_W$ is the weight of attraction and alignment\n",
    "\n",
    "The weighting given to each neighbour is \n",
    "\n",
    "$\\omega_i =  \\exp\\left(-\\left(\\frac{D}{I_D}\\right)^\\gamma\\right)$\n",
    "\n",
    "$\\gamma$ decay exponent\n",
    "\n",
    "$I_D$ is the peak influence distance\n"
   ]
  },
  {
   "cell_type": "code",
   "execution_count": 10,
   "metadata": {
    "collapsed": false
   },
   "outputs": [
    {
     "name": "stdout",
     "output_type": "stream",
     "text": [
      "-19860.018809103556\n",
      "-19797.7177878\n",
      "--------\n",
      "0.9397259431257959\n",
      "0.40108787480777786\n",
      "0.0817236572565643\n",
      "--------\n",
      "3.9936886548091084\n",
      "3.188879922546216\n",
      "0.2767648107283284\n",
      "0.3308096468447412\n",
      "2.102428012283289\n"
     ]
    }
   ],
   "source": [
    "import decayModelAlign\n",
    "\n",
    "import imp\n",
    "imp.reload(decayModelAlign)\n",
    "DMA = MAP(decayModelAlign)\n",
    "DMA.fit()\n",
    "print(DMA.AIC)\n",
    "print(DMA.BIC)\n",
    "print('--------')\n",
    "print(DMA.rho_s.value)\n",
    "print(DMA.alpha.value) \n",
    "print(DMA.beta.value) \n",
    "print('--------')\n",
    "print(DMA.attract_exponent.value)\n",
    "print(DMA.attract_length.value)\n",
    "print(DMA.attract_angle.value)\n",
    "print(DMA.ignore_length.value)\n",
    "print(DMA.align_weight.value)\n",
    "\n"
   ]
  },
  {
   "cell_type": "markdown",
   "metadata": {
    "collapsed": false
   },
   "source": [
    "Model 5\n",
    "--------\n",
    "\n",
    "Social vector is the average of relative positions to all neighbours within a network interaction range\n",
    "\n",
    "$I_D$ is the maximum number of neighbours\n",
    "\n",
    "$I_A$ is the maximum interaction angle either side of the centre of the animal\n",
    "\n"
   ]
  },
  {
   "cell_type": "code",
   "execution_count": 3,
   "metadata": {
    "collapsed": false
   },
   "outputs": [
    {
     "name": "stdout",
     "output_type": "stream",
     "text": [
      "==== 1 neighbour ====\n",
      "-18496.833175204425\n",
      "-18450.1074092\n",
      "--------\n",
      "0.9379831032114518\n",
      "0.463875287284764\n",
      "--------\n",
      "0.18413238973027726\n",
      "==== 2 neighbours ====\n",
      "-18727.42171900685\n",
      "-18680.695953\n",
      "--------\n",
      "0.9374713793443041\n",
      "0.3206294452409668\n",
      "--------\n",
      "0.21503167402440973\n",
      "==== 3 neighbours ====\n",
      "-18569.155674683774\n",
      "-18522.4299087\n",
      "--------\n",
      "0.9372652668451225\n",
      "0.31272157331256545\n",
      "--------\n",
      "0.21615997964045536\n",
      "==== 4 neighbours ====\n",
      "-18452.84371531462\n",
      "-18406.1179493\n",
      "--------\n",
      "0.9367216418951394\n",
      "0.2981415706342857\n",
      "--------\n",
      "0.21619599514548493\n",
      "==== 5 neighbours ====\n",
      "-18388.682005448874\n",
      "-18341.9562395\n",
      "--------\n",
      "0.9366125865124904\n",
      "0.29061251566251567\n",
      "--------\n",
      "0.2161890378977484\n"
     ]
    }
   ],
   "source": [
    "import networkModel\n",
    "\n",
    "networkModel.netcount=1\n",
    "\n",
    "NM = MAP(networkModel)\n",
    "NM.fit(method ='fmin', iterlim=100000, tol=.000001)\n",
    "print('==== 1 neighbour ====')\n",
    "print(NM.AIC)\n",
    "print(NM.BIC)\n",
    "print('--------')\n",
    "print(NM.rho_s.value)\n",
    "print(NM.alpha.value) \n",
    "print('--------')\n",
    "print(NM.interaction_angle.value)\n",
    "\n",
    "networkModel.netcount=2\n",
    "\n",
    "NM = MAP(networkModel)\n",
    "NM.fit(method ='fmin', iterlim=100000, tol=.000001)\n",
    "print('==== 2 neighbours ====')\n",
    "print(NM.AIC)\n",
    "print(NM.BIC)\n",
    "print('--------')\n",
    "print(NM.rho_s.value)\n",
    "print(NM.alpha.value) \n",
    "print('--------')\n",
    "print(NM.interaction_angle.value)\n",
    "\n",
    "\n",
    "networkModel.netcount=3\n",
    "\n",
    "NM = MAP(networkModel)\n",
    "NM.fit(method ='fmin', iterlim=100000, tol=.000001)\n",
    "print('==== 3 neighbours ====')\n",
    "print(NM.AIC)\n",
    "print(NM.BIC)\n",
    "print('--------')\n",
    "print(NM.rho_s.value)\n",
    "print(NM.alpha.value) \n",
    "print('--------')\n",
    "print(NM.interaction_angle.value)\n",
    "\n",
    "networkModel.netcount=4\n",
    "\n",
    "NM = MAP(networkModel)\n",
    "NM.fit(method ='fmin', iterlim=100000, tol=.000001)\n",
    "print('==== 4 neighbours ====')\n",
    "print(NM.AIC)\n",
    "print(NM.BIC)\n",
    "print('--------')\n",
    "print(NM.rho_s.value)\n",
    "print(NM.alpha.value) \n",
    "print('--------')\n",
    "print(NM.interaction_angle.value)\n",
    "\n",
    "networkModel.netcount=5\n",
    "\n",
    "NM = MAP(networkModel)\n",
    "NM.fit(method ='fmin', iterlim=100000, tol=.000001)\n",
    "print('==== 5 neighbours ====')\n",
    "print(NM.AIC)\n",
    "print(NM.BIC)\n",
    "print('--------')\n",
    "print(NM.rho_s.value)\n",
    "print(NM.alpha.value) \n",
    "print('--------')\n",
    "print(NM.interaction_angle.value)\n"
   ]
  },
  {
   "cell_type": "markdown",
   "metadata": {
    "collapsed": true
   },
   "source": [
    "Model 6\n",
    "--------\n",
    "\n",
    "Social vector is the average of relative positions to all neighbours and their headings within a network interaction range\n",
    "\n",
    "$I_D$ is the maximum number of neighbours\n",
    "\n",
    "$I_A$ is the maximum interaction angle either side of the centre of the animal\n",
    "\n"
   ]
  },
  {
   "cell_type": "code",
   "execution_count": 6,
   "metadata": {
    "collapsed": false
   },
   "outputs": [
    {
     "name": "stdout",
     "output_type": "stream",
     "text": [
      "==== 1 neighbour ====\n",
      "-19248.38522948078\n",
      "-19193.8718358\n",
      "--------\n",
      "0.9387934424429564\n",
      "0.3029236692741487\n",
      "--------\n",
      "0.26350609927599145\n",
      "==== 2 neighbours ====\n",
      "-19255.17551376025\n",
      "-19200.6621201\n",
      "--------\n",
      "0.9410227771705\n",
      "0.3013757773980319\n",
      "--------\n",
      "0.2635060988051797\n",
      "==== 3 neighbours ====\n",
      "-19108.191956534327\n",
      "-19053.6785629\n",
      "--------\n",
      "0.9378213773572176\n",
      "0.30345623373062636\n",
      "--------\n",
      "0.26418779761755273\n",
      "==== 4 neighbours ====\n",
      "-18952.741879225672\n",
      "-18898.2284856\n",
      "--------\n",
      "0.9374039659519273\n",
      "0.288379692936499\n",
      "--------\n",
      "0.263483505187776\n",
      "==== 5 neighbours ====\n",
      "-18864.347064114037\n",
      "-18809.8336704\n",
      "--------\n",
      "0.9372600393038685\n",
      "0.2806284459314851\n",
      "--------\n",
      "0.2634931549238485\n"
     ]
    }
   ],
   "source": [
    "import networkModelAlign\n",
    "imp.reload(networkModelAlign)\n",
    "networkModelAlign.netcount=1\n",
    "\n",
    "NM = MAP(networkModelAlign)\n",
    "NM.fit(method ='fmin', iterlim=100000, tol=.000001)\n",
    "print('==== 1 neighbour ====')\n",
    "print(NM.AIC)\n",
    "print(NM.BIC)\n",
    "print('--------')\n",
    "print(NM.rho_s.value)\n",
    "print(NM.alpha.value) \n",
    "print('--------')\n",
    "print(NM.interaction_angle.value)\n",
    "\n",
    "networkModelAlign.netcount=2\n",
    "\n",
    "NM = MAP(networkModelAlign)\n",
    "NM.fit(method ='fmin', iterlim=100000, tol=.000001)\n",
    "print('==== 2 neighbours ====')\n",
    "print(NM.AIC)\n",
    "print(NM.BIC)\n",
    "print('--------')\n",
    "print(NM.rho_s.value)\n",
    "print(NM.alpha.value) \n",
    "print('--------')\n",
    "print(NM.interaction_angle.value)\n",
    "\n",
    "\n",
    "networkModelAlign.netcount=3\n",
    "\n",
    "NM = MAP(networkModelAlign)\n",
    "NM.fit(method ='fmin', iterlim=100000, tol=.000001)\n",
    "print('==== 3 neighbours ====')\n",
    "print(NM.AIC)\n",
    "print(NM.BIC)\n",
    "print('--------')\n",
    "print(NM.rho_s.value)\n",
    "print(NM.alpha.value) \n",
    "print('--------')\n",
    "print(NM.interaction_angle.value)\n",
    "\n",
    "\n",
    "networkModelAlign.netcount=4\n",
    "\n",
    "NM = MAP(networkModelAlign)\n",
    "NM.fit(method ='fmin', iterlim=100000, tol=.000001)\n",
    "print('==== 4 neighbours ====')\n",
    "print(NM.AIC)\n",
    "print(NM.BIC)\n",
    "print('--------')\n",
    "print(NM.rho_s.value)\n",
    "print(NM.alpha.value) \n",
    "print('--------')\n",
    "print(NM.interaction_angle.value)\n",
    "\n",
    "\n",
    "networkModelAlign.netcount=5\n",
    "\n",
    "NM = MAP(networkModelAlign)\n",
    "NM.fit(method ='fmin', iterlim=100000, tol=.000001)\n",
    "print('==== 5 neighbours ====')\n",
    "print(NM.AIC)\n",
    "print(NM.BIC)\n",
    "print('--------')\n",
    "print(NM.rho_s.value)\n",
    "print(NM.alpha.value) \n",
    "print('--------')\n",
    "print(NM.interaction_angle.value)\n"
   ]
  },
  {
   "cell_type": "code",
   "execution_count": 12,
   "metadata": {
    "collapsed": false
   },
   "outputs": [
    {
     "name": "stdout",
     "output_type": "stream",
     "text": [
      "4.9909765229805245\n"
     ]
    }
   ],
   "source": [
    "print(DMA.angle_exponent.value)"
   ]
  },
  {
   "cell_type": "code",
   "execution_count": null,
   "metadata": {
    "collapsed": true
   },
   "outputs": [],
   "source": []
  }
 ],
 "metadata": {
  "kernelspec": {
   "display_name": "Python 3",
   "language": "python",
   "name": "python3"
  },
  "language_info": {
   "codemirror_mode": {
    "name": "ipython",
    "version": 3
   },
   "file_extension": ".py",
   "mimetype": "text/x-python",
   "name": "python",
   "nbconvert_exporter": "python",
   "pygments_lexer": "ipython3",
   "version": "3.5.1+"
  }
 },
 "nbformat": 4,
 "nbformat_minor": 0
}
