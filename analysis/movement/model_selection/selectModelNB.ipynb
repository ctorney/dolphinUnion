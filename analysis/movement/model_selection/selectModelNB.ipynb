{
 "cells": [
  {
   "cell_type": "code",
   "execution_count": 1,
   "metadata": {
    "collapsed": false
   },
   "outputs": [],
   "source": [
    "import pymc,imp\n",
    "import numpy as np\n",
    "from pymc import MAP\n",
    "\n",
    "allAIC = np.zeros((10))\n",
    "allBIC = np.zeros((10))\n",
    "i=0"
   ]
  },
  {
   "cell_type": "markdown",
   "metadata": {},
   "source": [
    "Basic model - correlated random walk\n",
    "====================\n",
    "parameters\n",
    "-------------- \n",
    "$\\rho_m$ - Cauchy parameter that specifies degree of correlation between successive steps"
   ]
  },
  {
   "cell_type": "code",
   "execution_count": 2,
   "metadata": {
    "collapsed": false
   },
   "outputs": [
    {
     "name": "stdout",
     "output_type": "stream",
     "text": [
      "-16427.431791779964\n",
      "-16419.6441641\n",
      "--------\n",
      "0.9324389388365363\n"
     ]
    }
   ],
   "source": [
    "import corRandomWalk\n",
    "imp.reload(corRandomWalk)\n",
    "\n",
    "CRW = MAP(corRandomWalk)\n",
    "CRW.fit()\n",
    "\n",
    "print(CRW.AIC)\n",
    "print(CRW.BIC)\n",
    "print('--------')\n",
    "print(CRW.rho_m.value) \n",
    "allAIC[i]=CRW.AIC\n",
    "allBIC[i]=CRW.BIC\n",
    "i=i+1"
   ]
  },
  {
   "cell_type": "markdown",
   "metadata": {},
   "source": [
    "Environment model\n",
    "==========\n",
    "parameters\n",
    "-----------\n",
    "$\\rho_m$ - Cauchy parameter that specifies degree of correlation between successive steps\n",
    "\n",
    "$\\rho_e$ - parameter that relates assumed environmental features to heading\n",
    "\n",
    "$\\beta$ - relative weighting of Cauchy distributions"
   ]
  },
  {
   "cell_type": "code",
   "execution_count": 3,
   "metadata": {
    "collapsed": false
   },
   "outputs": [
    {
     "name": "stdout",
     "output_type": "stream",
     "text": [
      "-18197.86619617906\n",
      "-18182.2909408\n",
      "--------\n",
      "0.9356733102039562\n",
      "0.1573921923349769\n"
     ]
    }
   ],
   "source": [
    "import environment\n",
    "imp.reload(environment)\n",
    "E = MAP(environment)\n",
    "E.fit()\n",
    "print(E.AIC)\n",
    "print(E.BIC)\n",
    "print('--------')\n",
    "print(E.rho_m.value) \n",
    "print(E.beta.value)\n",
    "\n",
    "allAIC[i]=E.AIC\n",
    "allBIC[i]=E.BIC\n",
    "i=i+1"
   ]
  },
  {
   "cell_type": "markdown",
   "metadata": {},
   "source": [
    "Social models\n",
    "========\n",
    "\n",
    "All models use the following parameters\n",
    "\n",
    "$\\rho_s$ - bias in Caucy distribution (how predictive of movement step is social vector)\n",
    "\n",
    "$\\rho_m$ - Cauchy parameter that specifies degree of correlation between successive steps\n",
    "\n",
    "$\\rho_e$ - parameter that relates assumed environmental features to heading\n",
    "\n",
    "$\\alpha$ - relative weighting of social to env/persistence distributions\n",
    "\n",
    "$\\beta$ - relative weighting of env and persistence distributions\n"
   ]
  },
  {
   "cell_type": "markdown",
   "metadata": {},
   "source": [
    "Social interaction rules\n",
    "=============\n",
    "\n",
    "Model 1\n",
    "--------\n",
    "\n",
    "Social vector is the average of relative positions to all neighbours within a constant interaction range\n",
    "\n",
    "$I_D$ is the maximum interaction distance\n",
    "\n",
    "$I_A$ is the maximum interaction angle either side of the centre of the animal\n",
    "\n",
    "$I_R$ is the zone within which neighbours are ignored\n",
    "\n"
   ]
  },
  {
   "cell_type": "code",
   "execution_count": 4,
   "metadata": {
    "collapsed": false
   },
   "outputs": [
    {
     "name": "stdout",
     "output_type": "stream",
     "text": [
      "-19600.979511248424\n",
      "-19554.2537452\n",
      "--------\n",
      "0.9394593815727138\n",
      "0.35717319839771045\n",
      "0.14021750465373115\n",
      "--------\n",
      "10.144491732939489\n",
      "0.2518123574185419\n",
      "1.3062288981961772\n"
     ]
    }
   ],
   "source": [
    "import constantModel\n",
    "imp.reload(constantModel)\n",
    "CM = MAP(constantModel)\n",
    "CM.fit()\n",
    "print(CM.AIC)\n",
    "print(CM.BIC)\n",
    "print('--------')\n",
    "print(CM.rho_s.value)\n",
    "print(CM.alpha.value) \n",
    "print(CM.beta.value) \n",
    "print('--------')\n",
    "print(CM.interaction_length.value)\n",
    "print(CM.interaction_angle.value)\n",
    "print(CM.ignore_length.value)\n",
    "\n",
    "allAIC[i]=CM.AIC\n",
    "allBIC[i]=CM.BIC\n",
    "i=i+1"
   ]
  },
  {
   "cell_type": "markdown",
   "metadata": {},
   "source": [
    "Model 2\n",
    "--------\n",
    "\n",
    "Social vector is the weighted average of position of a point each neighbour is heading towards within a constant interaction range\n",
    "\n",
    "$I_D$ is the maximum interaction distance\n",
    "\n",
    "$I_A$ is the maximum interaction angle either side of the centre of the animal\n",
    "\n",
    "$I_R$ is the zone within which neighbours are ignored\n",
    "\n",
    "$Al_W$ is the relative weight of attraction and alignment\n",
    "\n",
    "\n"
   ]
  },
  {
   "cell_type": "code",
   "execution_count": 5,
   "metadata": {
    "collapsed": false
   },
   "outputs": [
    {
     "name": "stdout",
     "output_type": "stream",
     "text": [
      "-19656.39632010461\n",
      "-19601.8829264\n",
      "--------\n",
      "0.9394953378206546\n",
      "0.3719546022212312\n",
      "0.13660503082959588\n",
      "--------\n",
      "10.125587866054083\n",
      "0.25180489623295826\n",
      "0.5754751444460896\n",
      "1.2571125473283877\n"
     ]
    }
   ],
   "source": [
    "import constantModelAlign\n",
    "import imp\n",
    "import pymc \n",
    "from pymc import MAP\n",
    "imp.reload(constantModelAlign)\n",
    "\n",
    "CMA = MAP(constantModelAlign)\n",
    "CMA.fit()\n",
    "print(CMA.AIC)\n",
    "print(CMA.BIC)\n",
    "print('--------')\n",
    "print(CMA.rho_s.value)\n",
    "print(CMA.alpha.value) \n",
    "print(CMA.beta.value) \n",
    "print('--------')\n",
    "print(CMA.attract_length.value)\n",
    "print(CMA.attract_angle.value)\n",
    "print(CMA.align_weight.value)\n",
    "print(CMA.ignore_length.value)\n",
    "\n",
    "allAIC[i]=CMA.AIC\n",
    "allBIC[i]=CMA.BIC\n",
    "i=i+1"
   ]
  },
  {
   "cell_type": "markdown",
   "metadata": {},
   "source": [
    "Model 3\n",
    "--------\n",
    "\n",
    "Social vector is the average of relative positions to all neighbours weighted according to an exponential decay\n",
    "\n",
    "$I_A$ is the maximum attraction angle either side of the centre of the animal\n",
    "\n",
    "The weighting given to each neighbour is \n",
    "\n",
    "$\\omega_i =  \\exp\\left(-\\left(\\frac{D}{I_D}\\right)^\\gamma\\right)$\n",
    "\n",
    "$\\gamma$ decay exponent\n",
    "\n",
    "$I_D$ peak distance\n",
    "\n"
   ]
  },
  {
   "cell_type": "code",
   "execution_count": 6,
   "metadata": {
    "collapsed": false
   },
   "outputs": [
    {
     "name": "stdout",
     "output_type": "stream",
     "text": [
      "-19604.022824004656\n",
      "-19549.5094303\n",
      "--------\n",
      "0.9394726959317081\n",
      "0.35075891591188657\n",
      "0.14173589180198376\n",
      "--------\n",
      "19.26101851591356\n",
      "8.137958350776941\n",
      "0.25139681086448773\n",
      "1.285012351222953\n"
     ]
    }
   ],
   "source": [
    "import decayModel\n",
    "imp.reload(decayModel)\n",
    "DM = MAP(decayModel)\n",
    "DM.fit()\n",
    "print(DM.AIC)\n",
    "print(DM.BIC)\n",
    "print('--------')\n",
    "print(DM.rho_s.value)\n",
    "print(DM.alpha.value) \n",
    "print(DM.beta.value) \n",
    "print('--------')\n",
    "print(DM.decay_exponent.value)\n",
    "print(DM.interaction_length.value)\n",
    "print(DM.interaction_angle.value)\n",
    "print(DM.ignore_length.value)\n",
    "\n",
    "allAIC[i]=DM.AIC\n",
    "allBIC[i]=DM.BIC\n",
    "i=i+1"
   ]
  },
  {
   "cell_type": "markdown",
   "metadata": {},
   "source": [
    "Model 4\n",
    "--------\n",
    "\n",
    "Social vector is the weighted average of relative positions to a point each neighbour is heading towards (i.e. includes alignment force) weighted with an exponential decay according to distance\n",
    "\n",
    "\n",
    "\n",
    "$I_A$ is the maximum attraction angle either side of the centre of the animal\n",
    "\n",
    "\n",
    "$Al_W$ is the weight of attraction and alignment\n",
    "\n",
    "The weighting given to each neighbour is \n",
    "\n",
    "$\\omega_i =  \\exp\\left(-\\left(\\frac{D}{I_D}\\right)^\\gamma\\right)$\n",
    "\n",
    "$\\gamma$ decay exponent\n",
    "\n",
    "$I_D$ is the peak influence distance\n"
   ]
  },
  {
   "cell_type": "code",
   "execution_count": 7,
   "metadata": {
    "collapsed": false
   },
   "outputs": [
    {
     "name": "stdout",
     "output_type": "stream",
     "text": [
      "-19715.77351286013\n",
      "-19653.4724915\n",
      "--------\n",
      "0.9396529725088002\n",
      "0.3870379791643967\n",
      "0.13673084835299582\n",
      "--------\n",
      "9.272935648814755\n",
      "4.994414655997313\n",
      "0.27642330874196225\n",
      "1.3065421032118985\n",
      "0.7659181663834961\n"
     ]
    }
   ],
   "source": [
    "import decayModelAlign\n",
    "\n",
    "import imp\n",
    "imp.reload(decayModelAlign)\n",
    "DMA = MAP(decayModelAlign)\n",
    "DMA.fit()\n",
    "print(DMA.AIC)\n",
    "print(DMA.BIC)\n",
    "print('--------')\n",
    "print(DMA.rho_s.value)\n",
    "print(DMA.alpha.value) \n",
    "print(DMA.beta.value) \n",
    "print('--------')\n",
    "print(DMA.attract_exponent.value)\n",
    "print(DMA.attract_length.value)\n",
    "print(DMA.attract_angle.value)\n",
    "print(DMA.ignore_length.value)\n",
    "print(DMA.align_weight.value)\n",
    "\n",
    "allAIC[i]=DMA.AIC\n",
    "allBIC[i]=DMA.BIC\n",
    "i=i+1"
   ]
  },
  {
   "cell_type": "markdown",
   "metadata": {
    "collapsed": false
   },
   "source": [
    "Model 5\n",
    "--------\n",
    "\n",
    "Social vector is the average of relative positions to all neighbours within a network interaction range\n",
    "\n",
    "$I_D$ is the maximum number of neighbours\n",
    "\n",
    "$I_A$ is the maximum interaction angle either side of the centre of the animal\n",
    "\n"
   ]
  },
  {
   "cell_type": "code",
   "execution_count": 8,
   "metadata": {
    "collapsed": false
   },
   "outputs": [
    {
     "name": "stdout",
     "output_type": "stream",
     "text": [
      "Warning: Stochastic interaction_length's value is neither numerical nor array with floating-point dtype. Recommend fitting method fmin (default).\n",
      "==== 1 neighbour ====\n",
      "-19380.51330613022\n",
      "-19333.7875401\n",
      "--------\n",
      "0.9386337195765454\n",
      "0.22016181286181535\n",
      "0.15109180255233964\n",
      "--------\n",
      "0.2805550081635955\n",
      "Warning: Stochastic interaction_length's value is neither numerical nor array with floating-point dtype. Recommend fitting method fmin (default).\n",
      "==== 2 neighbours ====\n",
      "-19335.112405915723\n",
      "-19288.3866399\n",
      "--------\n",
      "0.9383295046954787\n",
      "0.21565209035863264\n",
      "0.14461121771575428\n",
      "--------\n",
      "0.3085861369503283\n",
      "Warning: Stochastic interaction_length's value is neither numerical nor array with floating-point dtype. Recommend fitting method fmin (default).\n",
      "==== 3 neighbours ====\n",
      "-19254.010103820834\n",
      "-19207.2843378\n",
      "--------\n",
      "0.9381297369735669\n",
      "0.21459830548952757\n",
      "0.14177506033238993\n",
      "--------\n",
      "0.3085779805248097\n",
      "Warning: Stochastic interaction_length's value is neither numerical nor array with floating-point dtype. Recommend fitting method fmin (default).\n",
      "==== 4 neighbours ====\n",
      "-19153.563599843623\n",
      "-19106.8378338\n",
      "--------\n",
      "0.9378656663283979\n",
      "0.20663960278785207\n",
      "0.14047402552993804\n",
      "--------\n",
      "0.308531770795296\n",
      "Warning: Stochastic interaction_length's value is neither numerical nor array with floating-point dtype. Recommend fitting method fmin (default).\n",
      "==== 5 neighbours ====\n",
      "-19089.75940479285\n",
      "-19043.0336388\n",
      "--------\n",
      "0.9377086572476303\n",
      "0.20001774068191538\n",
      "0.14019140183693643\n",
      "--------\n",
      "0.3085809296441188\n"
     ]
    }
   ],
   "source": [
    "import networkModel\n",
    "import imp\n",
    "imp.reload(networkModel)\n",
    "\n",
    "networkModel.netcount=1\n",
    "\n",
    "NM = MAP(networkModel)\n",
    "NM.fit()#method ='fmin', iterlim=100000, tol=.000001)\n",
    "print('==== 1 neighbour ====')\n",
    "print(NM.AIC)\n",
    "print(NM.BIC)\n",
    "print('--------')\n",
    "print(NM.rho_s.value)\n",
    "print(NM.alpha.value) \n",
    "print(NM.beta.value) \n",
    "print('--------')\n",
    "print(NM.interaction_angle.value)\n",
    "\n",
    "allAIC[i]=NM.AIC\n",
    "allBIC[i]=NM.BIC\n",
    "i=i+1\n",
    "networkModel.netcount=2\n",
    "\n",
    "NM = MAP(networkModel)\n",
    "NM.fit()#method ='fmin', iterlim=100000, tol=.000001)\n",
    "print('==== 2 neighbours ====')\n",
    "print(NM.AIC)\n",
    "print(NM.BIC)\n",
    "print('--------')\n",
    "print(NM.rho_s.value)\n",
    "print(NM.alpha.value) \n",
    "print(NM.beta.value) \n",
    "print('--------')\n",
    "print(NM.interaction_angle.value)\n",
    "\n",
    "\n",
    "networkModel.netcount=3\n",
    "\n",
    "NM = MAP(networkModel)\n",
    "NM.fit()#method ='fmin', iterlim=100000, tol=.000001)\n",
    "print('==== 3 neighbours ====')\n",
    "print(NM.AIC)\n",
    "print(NM.BIC)\n",
    "print('--------')\n",
    "print(NM.rho_s.value)\n",
    "print(NM.alpha.value) \n",
    "print(NM.beta.value) \n",
    "print('--------')\n",
    "print(NM.interaction_angle.value)\n",
    "\n",
    "networkModel.netcount=4\n",
    "\n",
    "NM = MAP(networkModel)\n",
    "NM.fit()#method ='fmin', iterlim=100000, tol=.000001)\n",
    "print('==== 4 neighbours ====')\n",
    "print(NM.AIC)\n",
    "print(NM.BIC)\n",
    "print('--------')\n",
    "print(NM.rho_s.value)\n",
    "print(NM.alpha.value) \n",
    "print(NM.beta.value) \n",
    "print('--------')\n",
    "print(NM.interaction_angle.value)\n",
    "\n",
    "networkModel.netcount=5\n",
    "\n",
    "NM = MAP(networkModel)\n",
    "NM.fit()#method ='fmin', iterlim=100000, tol=.000001)\n",
    "print('==== 5 neighbours ====')\n",
    "print(NM.AIC)\n",
    "print(NM.BIC)\n",
    "print('--------')\n",
    "print(NM.rho_s.value)\n",
    "print(NM.alpha.value) \n",
    "print(NM.beta.value) \n",
    "print('--------')\n",
    "print(NM.interaction_angle.value)\n"
   ]
  },
  {
   "cell_type": "markdown",
   "metadata": {
    "collapsed": true
   },
   "source": [
    "Model 6\n",
    "--------\n",
    "\n",
    "Social vector is the average of relative positions to all neighbours and their headings within a network interaction range\n",
    "\n",
    "$I_D$ is the maximum number of neighbours\n",
    "\n",
    "$I_A$ is the maximum interaction angle either side of the centre of the animal\n",
    "\n"
   ]
  },
  {
   "cell_type": "code",
   "execution_count": 10,
   "metadata": {
    "collapsed": false
   },
   "outputs": [
    {
     "name": "stdout",
     "output_type": "stream",
     "text": [
      "==== 1 neighbour ====\n",
      "-19473.817036042066\n",
      "-19419.3036424\n",
      "--------\n",
      "0.9387376717386503\n",
      "0.23569999931373675\n",
      "--------\n",
      "0.2842569047789764\n",
      "==== 2 neighbours ====\n",
      "-19377.293132165316\n",
      "-19322.7797385\n",
      "--------\n",
      "0.9384704167405904\n",
      "0.2324102395552717\n",
      "--------\n",
      "0.3084273312704709\n",
      "==== 3 neighbours ====\n",
      "-19283.73643996288\n",
      "-19229.2230463\n",
      "--------\n",
      "0.9381347666289896\n",
      "0.22233633184923407\n",
      "--------\n",
      "0.3086226590579279\n",
      "==== 4 neighbours ====\n",
      "-19174.286014528618\n",
      "-19119.7726209\n",
      "--------\n",
      "0.9380682600749892\n",
      "0.214447033958243\n",
      "--------\n",
      "0.30865339853081253\n",
      "==== 5 neighbours ====\n",
      "-19105.637090707543\n",
      "-19051.123697\n",
      "--------\n",
      "0.9374584746842134\n",
      "0.20762382362950976\n",
      "--------\n",
      "0.3087643532373062\n"
     ]
    }
   ],
   "source": [
    "import networkModelAlign\n",
    "imp.reload(networkModelAlign)\n",
    "networkModelAlign.netcount=1\n",
    "\n",
    "NM = MAP(networkModelAlign)\n",
    "NM.fit(method ='fmin', iterlim=100000, tol=.000001)\n",
    "print('==== 1 neighbour ====')\n",
    "print(NM.AIC)\n",
    "print(NM.BIC)\n",
    "print('--------')\n",
    "print(NM.rho_s.value)\n",
    "print(NM.alpha.value) \n",
    "print('--------')\n",
    "print(NM.interaction_angle.value)\n",
    "\n",
    "allAIC[i]=NM.AIC\n",
    "allBIC[i]=NM.BIC\n",
    "i=i+1\n",
    "\n",
    "networkModelAlign.netcount=2\n",
    "\n",
    "NM = MAP(networkModelAlign)\n",
    "NM.fit(method ='fmin', iterlim=100000, tol=.000001)\n",
    "print('==== 2 neighbours ====')\n",
    "print(NM.AIC)\n",
    "print(NM.BIC)\n",
    "print('--------')\n",
    "print(NM.rho_s.value)\n",
    "print(NM.alpha.value) \n",
    "print('--------')\n",
    "print(NM.interaction_angle.value)\n",
    "\n",
    "\n",
    "networkModelAlign.netcount=3\n",
    "\n",
    "NM = MAP(networkModelAlign)\n",
    "NM.fit(method ='fmin', iterlim=100000, tol=.000001)\n",
    "print('==== 3 neighbours ====')\n",
    "print(NM.AIC)\n",
    "print(NM.BIC)\n",
    "print('--------')\n",
    "print(NM.rho_s.value)\n",
    "print(NM.alpha.value) \n",
    "print('--------')\n",
    "print(NM.interaction_angle.value)\n",
    "\n",
    "\n",
    "networkModelAlign.netcount=4\n",
    "\n",
    "NM = MAP(networkModelAlign)\n",
    "NM.fit(method ='fmin', iterlim=100000, tol=.000001)\n",
    "print('==== 4 neighbours ====')\n",
    "print(NM.AIC)\n",
    "print(NM.BIC)\n",
    "print('--------')\n",
    "print(NM.rho_s.value)\n",
    "print(NM.alpha.value) \n",
    "print('--------')\n",
    "print(NM.interaction_angle.value)\n",
    "\n",
    "\n",
    "networkModelAlign.netcount=5\n",
    "\n",
    "NM = MAP(networkModelAlign)\n",
    "NM.fit(method ='fmin', iterlim=100000, tol=.000001)\n",
    "print('==== 5 neighbours ====')\n",
    "print(NM.AIC)\n",
    "print(NM.BIC)\n",
    "print('--------')\n",
    "print(NM.rho_s.value)\n",
    "print(NM.alpha.value) \n",
    "print('--------')\n",
    "print(NM.interaction_angle.value)\n"
   ]
  },
  {
   "cell_type": "code",
   "execution_count": null,
   "metadata": {
    "collapsed": false
   },
   "outputs": [],
   "source": [
    "print(DMA.angle_exponent.value)"
   ]
  },
  {
   "cell_type": "code",
   "execution_count": 11,
   "metadata": {
    "collapsed": false
   },
   "outputs": [
    {
     "data": {
      "text/plain": [
       "array([-16427.43179178, -18197.86619618, -19600.97951125, -19656.3963201 ,\n",
       "       -19604.022824  , -19715.77351286, -19380.51330613, -19473.81703604,\n",
       "            0.        ,      0.        ])"
      ]
     },
     "execution_count": 11,
     "metadata": {},
     "output_type": "execute_result"
    }
   ],
   "source": [
    "allAIC"
   ]
  },
  {
   "cell_type": "code",
   "execution_count": 12,
   "metadata": {
    "collapsed": false
   },
   "outputs": [
    {
     "data": {
      "text/plain": [
       "array([-16419.64416411, -18182.29094085, -19554.25374525, -19601.88292644,\n",
       "       -19549.50943034, -19653.47249153, -19333.78754013, -19419.30364238,\n",
       "            0.        ,      0.        ])"
      ]
     },
     "execution_count": 12,
     "metadata": {},
     "output_type": "execute_result"
    }
   ],
   "source": [
    "allBIC\n"
   ]
  },
  {
   "cell_type": "code",
   "execution_count": 13,
   "metadata": {
    "collapsed": false
   },
   "outputs": [
    {
     "data": {
      "text/plain": [
       "array([5, 3, 2, 4, 7, 6, 1, 0, 8, 9])"
      ]
     },
     "execution_count": 13,
     "metadata": {},
     "output_type": "execute_result"
    }
   ],
   "source": [
    "np.argsort(allBIC)"
   ]
  },
  {
   "cell_type": "code",
   "execution_count": 14,
   "metadata": {
    "collapsed": false
   },
   "outputs": [
    {
     "data": {
      "text/plain": [
       "array([5, 3, 4, 2, 7, 6, 1, 0, 8, 9])"
      ]
     },
     "execution_count": 14,
     "metadata": {},
     "output_type": "execute_result"
    }
   ],
   "source": [
    "np.argsort(allAIC)"
   ]
  },
  {
   "cell_type": "code",
   "execution_count": 16,
   "metadata": {
    "collapsed": false
   },
   "outputs": [
    {
     "data": {
      "text/plain": [
       "array([-19715.77351286, -19656.3963201 , -19604.022824  , -19600.97951125,\n",
       "       -19473.81703604, -19380.51330613, -18197.86619618, -16427.43179178,\n",
       "            0.        ,      0.        ])"
      ]
     },
     "execution_count": 16,
     "metadata": {},
     "output_type": "execute_result"
    }
   ],
   "source": [
    "allAIC[np.argsort(allAIC)]"
   ]
  },
  {
   "cell_type": "code",
   "execution_count": 27,
   "metadata": {
    "collapsed": false
   },
   "outputs": [],
   "source": [
    "aa = allAIC - np.max(allAIC[0:8])"
   ]
  },
  {
   "cell_type": "code",
   "execution_count": 33,
   "metadata": {
    "collapsed": false
   },
   "outputs": [
    {
     "name": "stdout",
     "output_type": "stream",
     "text": [
      "8\n",
      "7\n",
      "4\n",
      "2\n",
      "3\n",
      "1\n",
      "6\n",
      "5\n",
      "9\n",
      "10\n"
     ]
    }
   ],
   "source": [
    "for p in np.argsort(np.argsort(allAIC)): print(p+1)"
   ]
  },
  {
   "cell_type": "code",
   "execution_count": 32,
   "metadata": {
    "collapsed": false
   },
   "outputs": [
    {
     "name": "stdout",
     "output_type": "stream",
     "text": [
      "0.0\n",
      "-1762.64677673\n",
      "-3134.60958114\n",
      "-3182.23876233\n",
      "-3129.86526623\n",
      "-3233.82832742\n",
      "-2914.14337602\n",
      "-2999.65947826\n",
      "16419.6441641\n",
      "16419.6441641\n",
      "8\n",
      "7\n",
      "3\n",
      "2\n",
      "4\n",
      "1\n",
      "6\n",
      "5\n",
      "9\n",
      "10\n"
     ]
    }
   ],
   "source": [
    "aa = allBIC - np.max(allBIC[0:8])\n",
    "for p in aa: print(p)\n",
    "for p in np.argsort(np.argsort(allBIC)): print(p+1)"
   ]
  },
  {
   "cell_type": "code",
   "execution_count": null,
   "metadata": {
    "collapsed": true
   },
   "outputs": [],
   "source": []
  }
 ],
 "metadata": {
  "kernelspec": {
   "display_name": "Python 3",
   "language": "python",
   "name": "python3"
  },
  "language_info": {
   "codemirror_mode": {
    "name": "ipython",
    "version": 3
   },
   "file_extension": ".py",
   "mimetype": "text/x-python",
   "name": "python",
   "nbconvert_exporter": "python",
   "pygments_lexer": "ipython3",
   "version": "3.5.1+"
  }
 },
 "nbformat": 4,
 "nbformat_minor": 0
}
