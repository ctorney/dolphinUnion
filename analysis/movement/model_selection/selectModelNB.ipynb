{
 "cells": [
  {
   "cell_type": "code",
   "execution_count": 1,
   "metadata": {
    "collapsed": false
   },
   "outputs": [],
   "source": [
    "import pymc,importlib\n",
    "import numpy as np\n",
    "from pymc import MAP\n",
    "\n",
    "allAIC = np.zeros((8))\n",
    "allBIC = np.zeros((8))\n",
    "i=0"
   ]
  },
  {
   "cell_type": "markdown",
   "metadata": {},
   "source": [
    "Basic model - correlated random walk\n",
    "====================\n",
    "parameters\n",
    "-------------- \n",
    "$\\rho_m$ - Cauchy parameter that specifies degree of correlation between successive steps"
   ]
  },
  {
   "cell_type": "code",
   "execution_count": 6,
   "metadata": {
    "collapsed": false
   },
   "outputs": [
    {
     "name": "stdout",
     "output_type": "stream",
     "text": [
      "-16427.431791779964\n",
      "-16419.6441641\n",
      "--------\n",
      "0.9324389388365363\n"
     ]
    }
   ],
   "source": [
    "import corRandomWalk\n",
    "importlib.reload(corRandomWalk)\n",
    "\n",
    "CRW = MAP(corRandomWalk)\n",
    "CRW.fit()\n",
    "\n",
    "print(CRW.AIC)\n",
    "print(CRW.BIC)\n",
    "print('--------')\n",
    "print(CRW.rho_m.value) \n",
    "allAIC[i]=CRW.AIC\n",
    "allBIC[i]=CRW.BIC\n",
    "i=i+1"
   ]
  },
  {
   "cell_type": "markdown",
   "metadata": {},
   "source": [
    "Environment model\n",
    "==========\n",
    "parameters\n",
    "-----------\n",
    "$\\rho_m$ - Cauchy parameter that specifies degree of correlation between successive steps\n",
    "\n",
    "$\\beta$ - relative weighting of persistence vs. environment"
   ]
  },
  {
   "cell_type": "code",
   "execution_count": 7,
   "metadata": {
    "collapsed": false
   },
   "outputs": [
    {
     "name": "stdout",
     "output_type": "stream",
     "text": [
      "-18197.866181605623\n",
      "-18182.2909263\n",
      "--------\n",
      "0.9356729190251436\n",
      "0.15737690176119315\n"
     ]
    },
    {
     "name": "stderr",
     "output_type": "stream",
     "text": [
      "/usr/local/lib/python3.5/dist-packages/scipy/optimize/optimize.py:1881: RuntimeWarning: invalid value encountered in absolute\n",
      "  tmp2 = numpy.abs(tmp2)\n"
     ]
    }
   ],
   "source": [
    "import environment\n",
    "importlib.reload(environment)\n",
    "E = MAP(environment)\n",
    "E.fit()\n",
    "print(E.AIC)\n",
    "print(E.BIC)\n",
    "print('--------')\n",
    "print(E.rho_m.value) \n",
    "print(E.beta.value)\n",
    "\n",
    "allAIC[i]=E.AIC\n",
    "allBIC[i]=E.BIC\n",
    "i=i+1"
   ]
  },
  {
   "cell_type": "markdown",
   "metadata": {},
   "source": [
    "Social models\n",
    "========\n",
    "\n",
    "All models use the following parameters\n",
    "\n",
    "$\\rho_s$ - bias in Caucy distribution (how predictive of movement step is social vector)\n",
    "\n",
    "$\\rho_m$ - Cauchy parameter that specifies degree of correlation between successive steps\n",
    "\n",
    "$\\rho_e$ - parameter that relates assumed environmental features to heading\n",
    "\n",
    "$\\alpha$ - relative weighting of social to env/persistence distributions\n",
    "\n",
    "$\\beta$ - relative weighting of env and persistence distributions\n"
   ]
  },
  {
   "cell_type": "markdown",
   "metadata": {},
   "source": [
    "Social interaction rules\n",
    "=============\n",
    "\n",
    "Model 1\n",
    "--------\n",
    "\n",
    "Social vector is the average of relative positions to all neighbours within a constant interaction range\n",
    "\n",
    "$I_D$ is the maximum interaction distance\n",
    "\n",
    "$I_A$ is the maximum interaction angle either side of the centre of the animal\n",
    "\n",
    "$I_R$ is the zone within which neighbours are ignored\n",
    "\n"
   ]
  },
  {
   "cell_type": "code",
   "execution_count": 8,
   "metadata": {
    "collapsed": false
   },
   "outputs": [
    {
     "name": "stderr",
     "output_type": "stream",
     "text": [
      "/usr/local/lib/python3.5/dist-packages/scipy/optimize/optimize.py:1881: RuntimeWarning: invalid value encountered in absolute\n",
      "  tmp2 = numpy.abs(tmp2)\n"
     ]
    },
    {
     "name": "stdout",
     "output_type": "stream",
     "text": [
      "-19600.979521342433\n",
      "-19554.2537553\n",
      "--------\n",
      "0.9394594942172199\n",
      "0.3572020447189417\n",
      "0.14021592159533697\n",
      "--------\n",
      "10.14463580901705\n",
      "0.2518122198616222\n",
      "1.3062322134548512\n"
     ]
    }
   ],
   "source": [
    "import constantModel\n",
    "importlib.reload(constantModel)\n",
    "CM = MAP(constantModel)\n",
    "CM.fit()\n",
    "print(CM.AIC)\n",
    "print(CM.BIC)\n",
    "print('--------')\n",
    "print(CM.rho_s.value)\n",
    "print(CM.alpha.value) \n",
    "print(CM.beta.value) \n",
    "print('--------')\n",
    "print(CM.interaction_length.value)\n",
    "print(CM.interaction_angle.value)\n",
    "print(CM.ignore_length.value)\n",
    "\n",
    "allAIC[i]=CM.AIC\n",
    "allBIC[i]=CM.BIC\n",
    "i=i+1"
   ]
  },
  {
   "cell_type": "markdown",
   "metadata": {},
   "source": [
    "Model 2\n",
    "--------\n",
    "\n",
    "Social vector is the weighted average of position of a point each neighbour is heading towards within a constant interaction range\n",
    "\n",
    "$I_D$ is the maximum interaction distance\n",
    "\n",
    "$I_A$ is the maximum interaction angle either side of the centre of the animal\n",
    "\n",
    "$I_R$ is the zone within which neighbours are ignored\n",
    "\n",
    "$Al_W$ is the relative weight of attraction and alignment\n",
    "\n",
    "\n"
   ]
  },
  {
   "cell_type": "code",
   "execution_count": 9,
   "metadata": {
    "collapsed": false
   },
   "outputs": [
    {
     "name": "stderr",
     "output_type": "stream",
     "text": [
      "/usr/local/lib/python3.5/dist-packages/scipy/optimize/optimize.py:1881: RuntimeWarning: invalid value encountered in absolute\n",
      "  tmp2 = numpy.abs(tmp2)\n"
     ]
    },
    {
     "name": "stdout",
     "output_type": "stream",
     "text": [
      "-19657.5057354447\n",
      "-19602.9923418\n",
      "--------\n",
      "0.9395039957419685\n",
      "0.37219574185697524\n",
      "0.13657082381525357\n",
      "--------\n",
      "10.132579822474282\n",
      "0.251792388193039\n",
      "0.562282828486459\n",
      "1.3073905971531514\n"
     ]
    }
   ],
   "source": [
    "import constantModelAlign\n",
    "import imp\n",
    "import pymc \n",
    "from pymc import MAP\n",
    "importlib.reload(constantModelAlign)\n",
    "\n",
    "CMA = MAP(constantModelAlign)\n",
    "CMA.fit()\n",
    "print(CMA.AIC)\n",
    "print(CMA.BIC)\n",
    "print('--------')\n",
    "print(CMA.rho_s.value)\n",
    "print(CMA.alpha.value) \n",
    "print(CMA.beta.value) \n",
    "print('--------')\n",
    "print(CMA.attract_length.value)\n",
    "print(CMA.attract_angle.value)\n",
    "print(CMA.align_weight.value)\n",
    "print(CMA.ignore_length.value)\n",
    "\n",
    "allAIC[i]=CMA.AIC\n",
    "allBIC[i]=CMA.BIC\n",
    "i=i+1"
   ]
  },
  {
   "cell_type": "markdown",
   "metadata": {},
   "source": [
    "Model 3\n",
    "--------\n",
    "\n",
    "Social vector is the average of relative positions to all neighbours weighted according to an exponential decay\n",
    "\n",
    "$I_A$ is the maximum attraction angle either side of the centre of the animal\n",
    "\n",
    "The weighting given to each neighbour is \n",
    "\n",
    "$\\omega_i =  \\exp\\left(-\\left(\\frac{D}{I_D}\\right)^\\gamma\\right)$\n",
    "\n",
    "$\\gamma$ decay exponent\n",
    "\n",
    "$I_D$ peak distance\n",
    "\n"
   ]
  },
  {
   "cell_type": "code",
   "execution_count": 10,
   "metadata": {
    "collapsed": false
   },
   "outputs": [
    {
     "name": "stderr",
     "output_type": "stream",
     "text": [
      "/usr/local/lib/python3.5/dist-packages/scipy/optimize/optimize.py:1881: RuntimeWarning: invalid value encountered in absolute\n",
      "  tmp2 = numpy.abs(tmp2)\n"
     ]
    },
    {
     "name": "stdout",
     "output_type": "stream",
     "text": [
      "-19600.254468403316\n",
      "-19545.7410747\n",
      "--------\n",
      "0.9394786148850879\n",
      "0.3515838926256913\n",
      "0.14189519679714724\n",
      "--------\n",
      "19.309866988877463\n",
      "7.970252883349621\n",
      "0.2518150640470483\n",
      "1.285337614368819\n"
     ]
    }
   ],
   "source": [
    "import decayModel\n",
    "importlib.reload(decayModel)\n",
    "DM = MAP(decayModel)\n",
    "DM.fit()\n",
    "print(DM.AIC)\n",
    "print(DM.BIC)\n",
    "print('--------')\n",
    "print(DM.rho_s.value)\n",
    "print(DM.alpha.value) \n",
    "print(DM.beta.value) \n",
    "print('--------')\n",
    "print(DM.decay_exponent.value)\n",
    "print(DM.interaction_length.value)\n",
    "print(DM.interaction_angle.value)\n",
    "print(DM.ignore_length.value)\n",
    "\n",
    "allAIC[i]=DM.AIC\n",
    "allBIC[i]=DM.BIC\n",
    "i=i+1"
   ]
  },
  {
   "cell_type": "markdown",
   "metadata": {},
   "source": [
    "Model 4\n",
    "--------\n",
    "\n",
    "Social vector is the weighted average of relative positions to a point each neighbour is heading towards (i.e. includes alignment force) weighted with an exponential decay according to distance\n",
    "\n",
    "\n",
    "\n",
    "$I_A$ is the maximum attraction angle either side of the centre of the animal\n",
    "\n",
    "\n",
    "$Al_W$ is the weight of attraction and alignment\n",
    "\n",
    "The weighting given to each neighbour is \n",
    "\n",
    "$\\omega_i =  \\exp\\left(-\\left(\\frac{D}{I_D}\\right)^\\gamma\\right)$\n",
    "\n",
    "$\\gamma$ decay exponent\n",
    "\n",
    "$I_D$ is the peak influence distance\n"
   ]
  },
  {
   "cell_type": "code",
   "execution_count": 11,
   "metadata": {
    "collapsed": false
   },
   "outputs": [
    {
     "name": "stderr",
     "output_type": "stream",
     "text": [
      "/usr/local/lib/python3.5/dist-packages/scipy/optimize/optimize.py:1881: RuntimeWarning: invalid value encountered in absolute\n",
      "  tmp2 = numpy.abs(tmp2)\n"
     ]
    },
    {
     "name": "stdout",
     "output_type": "stream",
     "text": [
      "-19718.823716185798\n",
      "-19656.5226949\n",
      "--------\n",
      "0.9396603560119919\n",
      "0.38385746697484596\n",
      "0.13685134422864856\n",
      "--------\n",
      "9.231891149338686\n",
      "5.065317959207304\n",
      "0.27644358490373855\n",
      "1.3083952684570894\n",
      "0.7602254452245139\n"
     ]
    }
   ],
   "source": [
    "import decayModelAlign\n",
    "\n",
    "import importlib\n",
    "importlib.reload(decayModelAlign)\n",
    "DMA = MAP(decayModelAlign)\n",
    "DMA.fit()\n",
    "print(DMA.AIC)\n",
    "print(DMA.BIC)\n",
    "print('--------')\n",
    "print(DMA.rho_s.value)\n",
    "print(DMA.alpha.value) \n",
    "print(DMA.beta.value) \n",
    "print('--------')\n",
    "print(DMA.attract_exponent.value)\n",
    "print(DMA.attract_length.value)\n",
    "print(DMA.attract_angle.value)\n",
    "print(DMA.ignore_length.value)\n",
    "print(DMA.align_weight.value)\n",
    "\n",
    "allAIC[i]=DMA.AIC\n",
    "allBIC[i]=DMA.BIC\n",
    "i=i+1"
   ]
  },
  {
   "cell_type": "markdown",
   "metadata": {
    "collapsed": false
   },
   "source": [
    "Model 5\n",
    "--------\n",
    "\n",
    "Social vector is the average of relative positions to all neighbours within a network interaction range\n",
    "\n",
    "$I_D$ is the maximum number of neighbours\n",
    "\n",
    "$I_A$ is the maximum interaction angle either side of the centre of the animal\n",
    "\n"
   ]
  },
  {
   "cell_type": "code",
   "execution_count": 2,
   "metadata": {
    "collapsed": false
   },
   "outputs": [
    {
     "name": "stdout",
     "output_type": "stream",
     "text": [
      "Warning: Stochastic interaction_length's value is neither numerical nor array with floating-point dtype. Recommend fitting method fmin (default).\n"
     ]
    },
    {
     "name": "stderr",
     "output_type": "stream",
     "text": [
      "/usr/local/lib/python3.5/dist-packages/scipy/optimize/optimize.py:1881: RuntimeWarning: invalid value encountered in absolute\n",
      "  tmp2 = numpy.abs(tmp2)\n"
     ]
    },
    {
     "name": "stdout",
     "output_type": "stream",
     "text": [
      "==== 1 neighbour ====\n",
      "-19381.698008605625\n",
      "-19334.9722426\n",
      "--------\n",
      "0.9386515167400042\n",
      "0.2165509813241587\n",
      "0.15148829168839653\n",
      "--------\n",
      "0.2842649713127983\n",
      "1.3017299895981864\n",
      "Warning: Stochastic interaction_length's value is neither numerical nor array with floating-point dtype. Recommend fitting method fmin (default).\n",
      "==== 2 neighbours ====\n",
      "-19330.649397633406\n",
      "-19283.9236316\n",
      "--------\n",
      "0.9383499355084569\n",
      "0.22049400660246052\n",
      "0.14594437309458944\n",
      "--------\n",
      "0.3003268904740397\n",
      "Warning: Stochastic interaction_length's value is neither numerical nor array with floating-point dtype. Recommend fitting method fmin (default).\n",
      "==== 3 neighbours ====\n",
      "-19246.652275171065\n",
      "-19199.9265092\n",
      "--------\n",
      "0.938114711163566\n",
      "0.21847100577390519\n",
      "0.14344299733083793\n",
      "--------\n",
      "0.3003268904846693\n",
      "Warning: Stochastic interaction_length's value is neither numerical nor array with floating-point dtype. Recommend fitting method fmin (default).\n",
      "==== 4 neighbours ====\n",
      "-19142.960658266435\n",
      "-19096.2348923\n",
      "--------\n",
      "0.937849534258868\n",
      "0.20993763648655697\n",
      "0.14270060047027422\n",
      "--------\n",
      "0.30043499042379584\n",
      "Warning: Stochastic interaction_length's value is neither numerical nor array with floating-point dtype. Recommend fitting method fmin (default).\n",
      "==== 5 neighbours ====\n",
      "-19079.92378908742\n",
      "-19033.1980231\n",
      "--------\n",
      "0.9376989948501286\n",
      "0.20347740445806278\n",
      "0.14249846046715292\n",
      "--------\n",
      "0.3004349904374783\n"
     ]
    }
   ],
   "source": [
    "import networkModel\n",
    "import importlib\n",
    "importlib.reload(networkModel)\n",
    "\n",
    "networkModel.netcount=1\n",
    "\n",
    "NM = MAP(networkModel)\n",
    "NM.fit()#method ='fmin', iterlim=100000, tol=.000001)\n",
    "print('==== 1 neighbour ====')\n",
    "print(NM.AIC)\n",
    "print(NM.BIC)\n",
    "print('--------')\n",
    "print(NM.rho_s.value)\n",
    "print(NM.alpha.value) \n",
    "print(NM.beta.value) \n",
    "print('--------')\n",
    "print(NM.interaction_angle.value)\n",
    "print(NM.ignore_length.value)\n",
    "\n",
    "allAIC[i]=NM.AIC\n",
    "allBIC[i]=NM.BIC\n",
    "i=i+1\n",
    "networkModel.netcount=2\n",
    "\n",
    "NM = MAP(networkModel)\n",
    "NM.fit()#method ='fmin', iterlim=100000, tol=.000001)\n",
    "print('==== 2 neighbours ====')\n",
    "print(NM.AIC)\n",
    "print(NM.BIC)\n",
    "print('--------')\n",
    "print(NM.rho_s.value)\n",
    "print(NM.alpha.value) \n",
    "print(NM.beta.value) \n",
    "print('--------')\n",
    "print(NM.interaction_angle.value)\n",
    "\n",
    "\n",
    "networkModel.netcount=3\n",
    "\n",
    "NM = MAP(networkModel)\n",
    "NM.fit()#method ='fmin', iterlim=100000, tol=.000001)\n",
    "print('==== 3 neighbours ====')\n",
    "print(NM.AIC)\n",
    "print(NM.BIC)\n",
    "print('--------')\n",
    "print(NM.rho_s.value)\n",
    "print(NM.alpha.value) \n",
    "print(NM.beta.value) \n",
    "print('--------')\n",
    "print(NM.interaction_angle.value)\n",
    "\n",
    "networkModel.netcount=4\n",
    "\n",
    "NM = MAP(networkModel)\n",
    "NM.fit()#method ='fmin', iterlim=100000, tol=.000001)\n",
    "print('==== 4 neighbours ====')\n",
    "print(NM.AIC)\n",
    "print(NM.BIC)\n",
    "print('--------')\n",
    "print(NM.rho_s.value)\n",
    "print(NM.alpha.value) \n",
    "print(NM.beta.value) \n",
    "print('--------')\n",
    "print(NM.interaction_angle.value)\n",
    "\n",
    "networkModel.netcount=5\n",
    "\n",
    "NM = MAP(networkModel)\n",
    "NM.fit()#method ='fmin', iterlim=100000, tol=.000001)\n",
    "print('==== 5 neighbours ====')\n",
    "print(NM.AIC)\n",
    "print(NM.BIC)\n",
    "print('--------')\n",
    "print(NM.rho_s.value)\n",
    "print(NM.alpha.value) \n",
    "print(NM.beta.value) \n",
    "print('--------')\n",
    "print(NM.interaction_angle.value)\n"
   ]
  },
  {
   "cell_type": "markdown",
   "metadata": {
    "collapsed": true
   },
   "source": [
    "Model 6\n",
    "--------\n",
    "\n",
    "Social vector is the average of relative positions to all neighbours and their headings within a network interaction range\n",
    "\n",
    "$I_D$ is the maximum number of neighbours\n",
    "\n",
    "$I_A$ is the maximum interaction angle either side of the centre of the animal\n",
    "\n"
   ]
  },
  {
   "cell_type": "code",
   "execution_count": 13,
   "metadata": {
    "collapsed": false
   },
   "outputs": [
    {
     "name": "stdout",
     "output_type": "stream",
     "text": [
      "==== 1 neighbour ====\n",
      "-19473.817036042066\n",
      "-19419.3036424\n",
      "--------\n",
      "0.9387376717386503\n",
      "0.23569999931373675\n",
      "0.1442806482086779\n",
      "--------\n",
      "0.2842569047789764\n",
      "1.00182262664265\n",
      "1.316401214251669\n",
      "==== 2 neighbours ====\n",
      "-19377.293132165316\n",
      "-19322.7797385\n",
      "--------\n",
      "0.9384704167405904\n",
      "0.2324102395552717\n",
      "--------\n",
      "0.3084273312704709\n",
      "==== 3 neighbours ====\n",
      "-19283.73643996288\n",
      "-19229.2230463\n",
      "--------\n",
      "0.9381347666289896\n",
      "0.22233633184923407\n",
      "--------\n",
      "0.3086226590579279\n",
      "==== 4 neighbours ====\n",
      "-19174.286014528618\n",
      "-19119.7726209\n",
      "--------\n",
      "0.9380682600749892\n",
      "0.214447033958243\n",
      "--------\n",
      "0.30865339853081253\n",
      "==== 5 neighbours ====\n",
      "-19105.637090707543\n",
      "-19051.123697\n",
      "--------\n",
      "0.9374584746842134\n",
      "0.20762382362950976\n",
      "--------\n",
      "0.3087643532373062\n"
     ]
    }
   ],
   "source": [
    "import networkModelAlign\n",
    "importlib.reload(networkModelAlign)\n",
    "networkModelAlign.netcount=1\n",
    "\n",
    "NM = MAP(networkModelAlign)\n",
    "NM.fit(method ='fmin', iterlim=100000, tol=.000001)\n",
    "print('==== 1 neighbour ====')\n",
    "print(NM.AIC)\n",
    "print(NM.BIC)\n",
    "print('--------')\n",
    "print(NM.rho_s.value)\n",
    "print(NM.alpha.value) \n",
    "print(NM.beta.value) \n",
    "\n",
    "print('--------')\n",
    "print(NM.interaction_angle.value)\n",
    "print(NM.align_weight.value)\n",
    "print(NM.ignore_length.value)\n",
    "\n",
    "allAIC[i]=NM.AIC\n",
    "allBIC[i]=NM.BIC\n",
    "i=i+1\n",
    "\n",
    "networkModelAlign.netcount=2\n",
    "\n",
    "NM = MAP(networkModelAlign)\n",
    "NM.fit(method ='fmin', iterlim=100000, tol=.000001)\n",
    "print('==== 2 neighbours ====')\n",
    "print(NM.AIC)\n",
    "print(NM.BIC)\n",
    "print('--------')\n",
    "print(NM.rho_s.value)\n",
    "print(NM.alpha.value) \n",
    "print('--------')\n",
    "print(NM.interaction_angle.value)\n",
    "\n",
    "\n",
    "networkModelAlign.netcount=3\n",
    "\n",
    "NM = MAP(networkModelAlign)\n",
    "NM.fit(method ='fmin', iterlim=100000, tol=.000001)\n",
    "print('==== 3 neighbours ====')\n",
    "print(NM.AIC)\n",
    "print(NM.BIC)\n",
    "print('--------')\n",
    "print(NM.rho_s.value)\n",
    "print(NM.alpha.value) \n",
    "print('--------')\n",
    "print(NM.interaction_angle.value)\n",
    "\n",
    "\n",
    "networkModelAlign.netcount=4\n",
    "\n",
    "NM = MAP(networkModelAlign)\n",
    "NM.fit(method ='fmin', iterlim=100000, tol=.000001)\n",
    "print('==== 4 neighbours ====')\n",
    "print(NM.AIC)\n",
    "print(NM.BIC)\n",
    "print('--------')\n",
    "print(NM.rho_s.value)\n",
    "print(NM.alpha.value) \n",
    "print('--------')\n",
    "print(NM.interaction_angle.value)\n",
    "\n",
    "\n",
    "networkModelAlign.netcount=5\n",
    "\n",
    "NM = MAP(networkModelAlign)\n",
    "NM.fit(method ='fmin', iterlim=100000, tol=.000001)\n",
    "print('==== 5 neighbours ====')\n",
    "print(NM.AIC)\n",
    "print(NM.BIC)\n",
    "print('--------')\n",
    "print(NM.rho_s.value)\n",
    "print(NM.alpha.value) \n",
    "print('--------')\n",
    "print(NM.interaction_angle.value)\n"
   ]
  },
  {
   "cell_type": "code",
   "execution_count": 19,
   "metadata": {
    "collapsed": false
   },
   "outputs": [
    {
     "name": "stdout",
     "output_type": "stream",
     "text": [
      "0.0\n",
      "-1770.43438983\n",
      "-3173.54772956\n",
      "-3230.07394366\n",
      "-3172.82267662\n",
      "-3291.39192441\n",
      "-2954.05172727\n",
      "-3046.38524426\n",
      "16427.4317918\n",
      "16427.4317918\n",
      "8\n",
      "7\n",
      "3\n",
      "2\n",
      "4\n",
      "1\n",
      "6\n",
      "5\n",
      "9\n",
      "10\n"
     ]
    }
   ],
   "source": [
    "aa = allAIC - np.max(allAIC[0:8])\n",
    "for p in aa: print(p)\n",
    "for p in np.argsort(np.argsort(allAIC)): print(p+1)"
   ]
  },
  {
   "cell_type": "code",
   "execution_count": 20,
   "metadata": {
    "collapsed": false
   },
   "outputs": [
    {
     "name": "stdout",
     "output_type": "stream",
     "text": [
      "0.0\n",
      "-1762.64676216\n",
      "-3134.60959123\n",
      "-3183.34817767\n",
      "-3126.09691062\n",
      "-3236.87853074\n",
      "-2915.11358894\n",
      "-2999.65947826\n",
      "16419.6441641\n",
      "16419.6441641\n",
      "8\n",
      "7\n",
      "3\n",
      "2\n",
      "4\n",
      "1\n",
      "6\n",
      "5\n",
      "9\n",
      "10\n"
     ]
    }
   ],
   "source": [
    "aa = allBIC - np.max(allBIC[0:8])\n",
    "for p in aa: print(p)\n",
    "for p in np.argsort(np.argsort(allBIC)): print(p+1)"
   ]
  },
  {
   "cell_type": "code",
   "execution_count": null,
   "metadata": {
    "collapsed": true
   },
   "outputs": [],
   "source": []
  }
 ],
 "metadata": {
  "kernelspec": {
   "display_name": "Python 3",
   "language": "python",
   "name": "python3"
  },
  "language_info": {
   "codemirror_mode": {
    "name": "ipython",
    "version": 3
   },
   "file_extension": ".py",
   "mimetype": "text/x-python",
   "name": "python",
   "nbconvert_exporter": "python",
   "pygments_lexer": "ipython3",
   "version": "3.5.2"
  }
 },
 "nbformat": 4,
 "nbformat_minor": 0
}
