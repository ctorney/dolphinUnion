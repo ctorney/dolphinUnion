{
 "cells": [
  {
   "cell_type": "code",
   "execution_count": 16,
   "metadata": {
    "collapsed": false
   },
   "outputs": [],
   "source": [
    "import pymc\n",
    "from pymc import MAP"
   ]
  },
  {
   "cell_type": "markdown",
   "metadata": {},
   "source": [
    "Basic model - correlated random walk\n",
    "====================\n",
    "parameters\n",
    "-------------- \n",
    "$\\rho_m$ - Cauchy parameter that specifies degree of correlation between successive steps"
   ]
  },
  {
   "cell_type": "code",
   "execution_count": 17,
   "metadata": {
    "collapsed": false
   },
   "outputs": [
    {
     "name": "stdout",
     "output_type": "stream",
     "text": [
      "932.1368440494061\n",
      "940.112698774\n",
      "0.9137298583984386\n"
     ]
    }
   ],
   "source": [
    "import corRandomWalk\n",
    "\n",
    "CRW = MAP(corRandomWalk)\n",
    "CRW.fit(method ='fmin', iterlim=100000, tol=.000001)\n",
    "\n",
    "print(CRW.AIC)\n",
    "print(CRW.BIC)\n",
    "print(CRW.rho_m.value) \n"
   ]
  },
  {
   "cell_type": "markdown",
   "metadata": {},
   "source": [
    "Environment model\n",
    "==========\n",
    "parameters\n",
    "-----------\n",
    "$\\rho_m$ - Cauchy parameter that specifies degree of correlation between successive steps\n",
    "\n",
    "$\\rho_e$ - parameter that relates assumed environmental features to heading\n",
    "\n",
    "$\\beta$ - relative weighting of Cauchy distributions"
   ]
  },
  {
   "cell_type": "code",
   "execution_count": 18,
   "metadata": {
    "collapsed": false
   },
   "outputs": [
    {
     "name": "stdout",
     "output_type": "stream",
     "text": [
      "-650.0067043489503\n",
      "-626.079140175\n",
      "0.9209406593211178\n",
      "0.9300260295908297\n",
      "0.13602869124999006\n"
     ]
    }
   ],
   "source": [
    "import environment\n",
    "\n",
    "E = MAP(environment)\n",
    "E.fit(method ='fmin', iterlim=100000, tol=.000001)\n",
    "print(E.AIC)\n",
    "print(E.BIC)\n",
    "\n",
    "print(E.rho_m.value) \n",
    "print(E.rho_e.value) \n",
    "print(E.beta.value)\n"
   ]
  },
  {
   "cell_type": "markdown",
   "metadata": {},
   "source": [
    "Social models\n",
    "========\n",
    "\n",
    "All models use the following parameters\n",
    "\n",
    "$\\rho_s$ - bias in Caucy distribution (how predictive of movement step is social vector)\n",
    "\n",
    "$\\rho_m$ - Cauchy parameter that specifies degree of correlation between successive steps\n",
    "\n",
    "$\\rho_e$ - parameter that relates assumed environmental features to heading\n",
    "\n",
    "$\\alpha$ - relative weighting of social to env/persistence distributions\n",
    "\n",
    "$\\beta$ - relative weighting of env and persistence distributions\n"
   ]
  },
  {
   "cell_type": "markdown",
   "metadata": {},
   "source": [
    "Social interaction rules\n",
    "=============\n",
    "\n",
    "Model 1\n",
    "--------\n",
    "\n",
    "Social vector is the average of relative positions to all neighbours within a constant interaction range\n",
    "\n",
    "$I_D$ is the maximum interaction distance\n",
    "\n",
    "$I_A$ is the maximum interaction angle either side of the centre of the animal\n",
    "\n"
   ]
  },
  {
   "cell_type": "code",
   "execution_count": 41,
   "metadata": {
    "collapsed": false
   },
   "outputs": [
    {
     "name": "stdout",
     "output_type": "stream",
     "text": [
      "-2061.0887071038014\n",
      "-2021.20943348\n",
      "0.9625811563226174\n",
      "0.3584851298955548\n",
      "14.325125199684432\n",
      "0.20208389002885535\n"
     ]
    }
   ],
   "source": [
    "import constantModel\n",
    "imp.reload(constantModel)\n",
    "CM = MAP(constantModel)\n",
    "CM.fit(method ='fmin', iterlim=100000, tol=.00001)\n",
    "print(CM.AIC)\n",
    "print(CM.BIC)\n",
    "\n",
    "print(CM.rho_s.value)\n",
    "#print(CM.rho_m.value) \n",
    "#print(CM.rho_e.value) \n",
    "print(CM.alpha.value) \n",
    "#print(CM.beta.value)\n",
    "\n",
    "print(CM.interaction_length.value)\n",
    "print(CM.interaction_angle.value)"
   ]
  },
  {
   "cell_type": "markdown",
   "metadata": {},
   "source": [
    "Model 2\n",
    "--------\n",
    "\n",
    "Social vector is the weighted average of relative positions to all neighbours and their relative headings within two constant interaction ranges\n",
    "\n",
    "$At_D$ is the maximum attraction distance\n",
    "\n",
    "$At_A$ is the maximum attraction angle either side of the centre of the animal\n",
    "\n",
    "$Al_D$ is the maximum alignment distance\n",
    "\n",
    "$Al_A$ is the maximum alignment angle either side of the centre of the animal\n",
    "\n",
    "$Al_W$ is the relative weight of attraction and alignment\n",
    "\n",
    "\n"
   ]
  },
  {
   "cell_type": "code",
   "execution_count": 42,
   "metadata": {
    "collapsed": false
   },
   "outputs": [
    {
     "name": "stdout",
     "output_type": "stream",
     "text": [
      "-2465.349409159324\n",
      "-2409.51842609\n",
      "8.41163175837181\n",
      "0.20223346511928203\n",
      "2.755233517772372\n",
      "0.4163455855778031\n",
      "0.6788055336377123\n",
      "0.9674041529547788\n",
      "0.41307035499750955\n"
     ]
    }
   ],
   "source": [
    "import constantModelAlign\n",
    "import imp\n",
    "imp.reload(constantModelAlign)\n",
    "\n",
    "CMA = MAP(constantModelAlign)\n",
    "CMA.fit(method ='fmin', iterlim=100000, tol=.000001)\n",
    "print(CMA.AIC)\n",
    "print(CMA.BIC)\n",
    "\n",
    "print(CMA.attract_length.value)\n",
    "print(CMA.attract_angle.value)\n",
    "print(CMA.align_length.value)\n",
    "print(CMA.align_angle.value)\n",
    "print(CMA.align_weight.value)\n",
    "\n",
    "print(CMA.rho_s.value)\n",
    "#print(CMA.rho_m.value) \n",
    "#print(CMA.rho_e.value) \n",
    "print(CMA.alpha.value) \n",
    "#print(CMA.beta.value)\n"
   ]
  },
  {
   "cell_type": "markdown",
   "metadata": {},
   "source": [
    "Model 3\n",
    "--------\n",
    "\n",
    "Social vector is the average of relative positions to all neighbours weighted according to an exponential decay\n",
    "\n",
    "$I_A$ is the maximum attraction angle either side of the centre of the animal\n",
    "\n",
    "The weighting given to each neighbour is \n",
    "\n",
    "$\\omega_i =  \\exp\\left(-\\left(\\frac{D}{I_D}\\right)^\\gamma\\right)$\n",
    "\n",
    "$\\gamma$ decay exponent\n",
    "\n",
    "$I_D$ peak distance\n",
    "\n"
   ]
  },
  {
   "cell_type": "code",
   "execution_count": 44,
   "metadata": {
    "collapsed": false
   },
   "outputs": [
    {
     "name": "stdout",
     "output_type": "stream",
     "text": [
      "-2145.563185949646\n",
      "-2105.68391233\n",
      "0.884661892772233\n",
      "2.679689987591599\n",
      "0.18774104049750467\n",
      "0.9639926901670834\n",
      "0.29889138307397667\n"
     ]
    }
   ],
   "source": [
    "import decayModel\n",
    "imp.reload(decayModel)\n",
    "DM = MAP(decayModel)\n",
    "DM.fit(method ='fmin', iterlim=100000, tol=.000001)\n",
    "print(DM.AIC)\n",
    "print(DM.BIC)\n",
    "\n",
    "print(DM.decay_exponent.value)\n",
    "print(DM.interaction_length.value)\n",
    "print(DM.interaction_angle.value)\n",
    "\n",
    "print(DM.rho_s.value)\n",
    "#print(DM.rho_m.value) \n",
    "#print(DM.rho_e.value) \n",
    "print(DM.alpha.value) \n",
    "#print(DM.beta.value)\n"
   ]
  },
  {
   "cell_type": "markdown",
   "metadata": {},
   "source": [
    "Model 4\n",
    "--------\n",
    "\n",
    "Social vector is the weighted average of relative positions to all neighbours and their relative headings within two constant interaction ranges, both weighted with an exponential decay according to distance\n",
    "\n",
    "\n",
    "\n",
    "$At_A$ is the maximum attraction angle either side of the centre of the animal\n",
    "\n",
    "\n",
    "\n",
    "$Al_A$ is the maximum alignment angle either side of the centre of the animal\n",
    "\n",
    "$Al_W$ is the relative weight of attraction and alignment\n",
    "\n",
    "The weighting given to each neighbour is \n",
    "\n",
    "$\\omega_i =  \\exp\\left(-\\left(\\frac{D_i}{At_D}\\right)^{\\gamma_{At}}\\right)$\n",
    "\n",
    "$\\gamma$ decay exponent\n",
    "\n",
    "$At_D$ is the peak attraction distance\n",
    "$Al_D$ is the peak alignment distance"
   ]
  },
  {
   "cell_type": "code",
   "execution_count": 75,
   "metadata": {
    "collapsed": false
   },
   "outputs": [
    {
     "name": "stdout",
     "output_type": "stream",
     "text": [
      "-1770.13661049059\n",
      "-1698.35391797\n",
      "1.1562473829307742\n",
      "5.039103127341861\n",
      "0.22300406924333263\n",
      "1.0402302720284493\n",
      "3.2228135043498214\n",
      "0.39168340008056746\n",
      "0.5760107480577652\n",
      "0.9659809518388802\n",
      "0.18553464455437152\n"
     ]
    }
   ],
   "source": [
    "import decayModelAlign\n",
    "\n",
    "import imp\n",
    "imp.reload(decayModelAlign)\n",
    "DMA = MAP(decayModelAlign)\n",
    "DMA.fit(method ='fmin', iterlim=100000, tol=.000001)\n",
    "print(DMA.AIC)\n",
    "print(DMA.BIC)\n",
    "\n",
    "print(DMA.attract_exponent.value)\n",
    "print(DMA.attract_length.value)\n",
    "print(DMA.attract_angle.value)\n",
    "\n",
    "print(DMA.align_exponent.value)\n",
    "print(DMA.align_length.value)\n",
    "print(DMA.align_angle.value)\n",
    "print(DMA.align_weight.value)\n",
    "\n",
    "print(DMA.rho_s.value)\n",
    "#print(DMA.rho_m.value) \n",
    "#print(DMA.rho_e.value) \n",
    "print(DMA.alpha.value) \n",
    "#print(DMA.beta.value)"
   ]
  },
  {
   "cell_type": "code",
   "execution_count": 74,
   "metadata": {
    "collapsed": false
   },
   "outputs": [
    {
     "name": "stdout",
     "output_type": "stream",
     "text": [
      "1134.8484053313125\n",
      "1069.7644759538293\n",
      "1230.7512686962639\n",
      "1029.1266241074875\n"
     ]
    }
   ],
   "source": [
    "\n",
    "DMA.align_length.value=2.62\n",
    "print(DMA.logp)\n",
    "print(DM.logp)\n",
    "print(CMA.logp)\n",
    "print(CM.logp)"
   ]
  },
  {
   "cell_type": "markdown",
   "metadata": {
    "collapsed": false
   },
   "source": [
    "Model 5\n",
    "--------\n",
    "\n",
    "Social vector is the average of relative positions to all neighbours within a network interaction range\n",
    "\n",
    "$I_D$ is the maximum number of neighbours\n",
    "\n",
    "$I_A$ is the maximum interaction angle either side of the centre of the animal\n",
    "\n"
   ]
  },
  {
   "cell_type": "code",
   "execution_count": 12,
   "metadata": {
    "collapsed": false
   },
   "outputs": [
    {
     "name": "stdout",
     "output_type": "stream",
     "text": [
      "==== 1 neighbour ====\n",
      "-1974.279468920863\n",
      "-1918.44848585\n",
      "0.2523720047195217\n",
      "0.9657653612727474\n",
      "0.9210345543129502\n",
      "0.917466121150134\n",
      "0.2518025462414319\n",
      "0.1388028842999552\n"
     ]
    },
    {
     "ename": "KeyboardInterrupt",
     "evalue": "",
     "output_type": "error",
     "traceback": [
      "\u001b[1;31m---------------------------------------------------------------------------\u001b[0m",
      "\u001b[1;31mKeyboardInterrupt\u001b[0m                         Traceback (most recent call last)",
      "\u001b[1;32m<ipython-input-12-74a8b762c0be>\u001b[0m in \u001b[0;36m<module>\u001b[1;34m()\u001b[0m\n\u001b[0;32m     20\u001b[0m \u001b[1;33m\u001b[0m\u001b[0m\n\u001b[0;32m     21\u001b[0m \u001b[0mNM\u001b[0m \u001b[1;33m=\u001b[0m \u001b[0mMAP\u001b[0m\u001b[1;33m(\u001b[0m\u001b[0mnetworkModel\u001b[0m\u001b[1;33m)\u001b[0m\u001b[1;33m\u001b[0m\u001b[0m\n\u001b[1;32m---> 22\u001b[1;33m \u001b[0mNM\u001b[0m\u001b[1;33m.\u001b[0m\u001b[0mfit\u001b[0m\u001b[1;33m(\u001b[0m\u001b[0mmethod\u001b[0m \u001b[1;33m=\u001b[0m\u001b[1;34m'fmin'\u001b[0m\u001b[1;33m,\u001b[0m \u001b[0miterlim\u001b[0m\u001b[1;33m=\u001b[0m\u001b[1;36m100000\u001b[0m\u001b[1;33m,\u001b[0m \u001b[0mtol\u001b[0m\u001b[1;33m=\u001b[0m\u001b[1;36m.000001\u001b[0m\u001b[1;33m)\u001b[0m\u001b[1;33m\u001b[0m\u001b[0m\n\u001b[0m\u001b[0;32m     23\u001b[0m \u001b[0mprint\u001b[0m\u001b[1;33m(\u001b[0m\u001b[1;34m'==== 3 neighbours ===='\u001b[0m\u001b[1;33m)\u001b[0m\u001b[1;33m\u001b[0m\u001b[0m\n\u001b[0;32m     24\u001b[0m \u001b[0mprint\u001b[0m\u001b[1;33m(\u001b[0m\u001b[0mNM\u001b[0m\u001b[1;33m.\u001b[0m\u001b[0mAIC\u001b[0m\u001b[1;33m)\u001b[0m\u001b[1;33m\u001b[0m\u001b[0m\n",
      "\u001b[1;32m/usr/local/lib/python3.5/dist-packages/pymc/NormalApproximation.py\u001b[0m in \u001b[0;36mfit\u001b[1;34m(self, method, iterlim, tol, verbose, no_callback, **kwargs)\u001b[0m\n\u001b[0;32m    309\u001b[0m                      \u001b[0mmaxiter\u001b[0m\u001b[1;33m=\u001b[0m\u001b[0miterlim\u001b[0m\u001b[1;33m,\u001b[0m\u001b[1;33m\u001b[0m\u001b[0m\n\u001b[0;32m    310\u001b[0m                      \u001b[0mftol\u001b[0m\u001b[1;33m=\u001b[0m\u001b[0mtol\u001b[0m\u001b[1;33m,\u001b[0m\u001b[1;33m\u001b[0m\u001b[0m\n\u001b[1;32m--> 311\u001b[1;33m                      disp=verbose, **kwargs)\n\u001b[0m\u001b[0;32m    312\u001b[0m \u001b[1;33m\u001b[0m\u001b[0m\n\u001b[0;32m    313\u001b[0m         \u001b[1;32melif\u001b[0m \u001b[0mself\u001b[0m\u001b[1;33m.\u001b[0m\u001b[0mmethod\u001b[0m \u001b[1;33m==\u001b[0m \u001b[1;34m'fmin_powell'\u001b[0m\u001b[1;33m:\u001b[0m\u001b[1;33m\u001b[0m\u001b[0m\n",
      "\u001b[1;32m/usr/lib/python3/dist-packages/scipy/optimize/optimize.py\u001b[0m in \u001b[0;36mfmin\u001b[1;34m(func, x0, args, xtol, ftol, maxiter, maxfun, full_output, disp, retall, callback)\u001b[0m\n\u001b[0;32m    379\u001b[0m             'return_all': retall}\n\u001b[0;32m    380\u001b[0m \u001b[1;33m\u001b[0m\u001b[0m\n\u001b[1;32m--> 381\u001b[1;33m     \u001b[0mres\u001b[0m \u001b[1;33m=\u001b[0m \u001b[0m_minimize_neldermead\u001b[0m\u001b[1;33m(\u001b[0m\u001b[0mfunc\u001b[0m\u001b[1;33m,\u001b[0m \u001b[0mx0\u001b[0m\u001b[1;33m,\u001b[0m \u001b[0margs\u001b[0m\u001b[1;33m,\u001b[0m \u001b[0mcallback\u001b[0m\u001b[1;33m=\u001b[0m\u001b[0mcallback\u001b[0m\u001b[1;33m,\u001b[0m \u001b[1;33m**\u001b[0m\u001b[0mopts\u001b[0m\u001b[1;33m)\u001b[0m\u001b[1;33m\u001b[0m\u001b[0m\n\u001b[0m\u001b[0;32m    382\u001b[0m     \u001b[1;32mif\u001b[0m \u001b[0mfull_output\u001b[0m\u001b[1;33m:\u001b[0m\u001b[1;33m\u001b[0m\u001b[0m\n\u001b[0;32m    383\u001b[0m         \u001b[0mretlist\u001b[0m \u001b[1;33m=\u001b[0m \u001b[0mres\u001b[0m\u001b[1;33m[\u001b[0m\u001b[1;34m'x'\u001b[0m\u001b[1;33m]\u001b[0m\u001b[1;33m,\u001b[0m \u001b[0mres\u001b[0m\u001b[1;33m[\u001b[0m\u001b[1;34m'fun'\u001b[0m\u001b[1;33m]\u001b[0m\u001b[1;33m,\u001b[0m \u001b[0mres\u001b[0m\u001b[1;33m[\u001b[0m\u001b[1;34m'nit'\u001b[0m\u001b[1;33m]\u001b[0m\u001b[1;33m,\u001b[0m \u001b[0mres\u001b[0m\u001b[1;33m[\u001b[0m\u001b[1;34m'nfev'\u001b[0m\u001b[1;33m]\u001b[0m\u001b[1;33m,\u001b[0m \u001b[0mres\u001b[0m\u001b[1;33m[\u001b[0m\u001b[1;34m'status'\u001b[0m\u001b[1;33m]\u001b[0m\u001b[1;33m\u001b[0m\u001b[0m\n",
      "\u001b[1;32m/usr/lib/python3/dist-packages/scipy/optimize/optimize.py\u001b[0m in \u001b[0;36m_minimize_neldermead\u001b[1;34m(func, x0, args, callback, xtol, ftol, maxiter, maxfev, disp, return_all, **unknown_options)\u001b[0m\n\u001b[0;32m    496\u001b[0m                     \u001b[1;31m# Perform an inside contraction\u001b[0m\u001b[1;33m\u001b[0m\u001b[1;33m\u001b[0m\u001b[0m\n\u001b[0;32m    497\u001b[0m                     \u001b[0mxcc\u001b[0m \u001b[1;33m=\u001b[0m \u001b[1;33m(\u001b[0m\u001b[1;36m1\u001b[0m \u001b[1;33m-\u001b[0m \u001b[0mpsi\u001b[0m\u001b[1;33m)\u001b[0m \u001b[1;33m*\u001b[0m \u001b[0mxbar\u001b[0m \u001b[1;33m+\u001b[0m \u001b[0mpsi\u001b[0m \u001b[1;33m*\u001b[0m \u001b[0msim\u001b[0m\u001b[1;33m[\u001b[0m\u001b[1;33m-\u001b[0m\u001b[1;36m1\u001b[0m\u001b[1;33m]\u001b[0m\u001b[1;33m\u001b[0m\u001b[0m\n\u001b[1;32m--> 498\u001b[1;33m                     \u001b[0mfxcc\u001b[0m \u001b[1;33m=\u001b[0m \u001b[0mfunc\u001b[0m\u001b[1;33m(\u001b[0m\u001b[0mxcc\u001b[0m\u001b[1;33m)\u001b[0m\u001b[1;33m\u001b[0m\u001b[0m\n\u001b[0m\u001b[0;32m    499\u001b[0m \u001b[1;33m\u001b[0m\u001b[0m\n\u001b[0;32m    500\u001b[0m                     \u001b[1;32mif\u001b[0m \u001b[0mfxcc\u001b[0m \u001b[1;33m<\u001b[0m \u001b[0mfsim\u001b[0m\u001b[1;33m[\u001b[0m\u001b[1;33m-\u001b[0m\u001b[1;36m1\u001b[0m\u001b[1;33m]\u001b[0m\u001b[1;33m:\u001b[0m\u001b[1;33m\u001b[0m\u001b[0m\n",
      "\u001b[1;32m/usr/lib/python3/dist-packages/scipy/optimize/optimize.py\u001b[0m in \u001b[0;36mfunction_wrapper\u001b[1;34m(*wrapper_args)\u001b[0m\n\u001b[0;32m    287\u001b[0m     \u001b[1;32mdef\u001b[0m \u001b[0mfunction_wrapper\u001b[0m\u001b[1;33m(\u001b[0m\u001b[1;33m*\u001b[0m\u001b[0mwrapper_args\u001b[0m\u001b[1;33m)\u001b[0m\u001b[1;33m:\u001b[0m\u001b[1;33m\u001b[0m\u001b[0m\n\u001b[0;32m    288\u001b[0m         \u001b[0mncalls\u001b[0m\u001b[1;33m[\u001b[0m\u001b[1;36m0\u001b[0m\u001b[1;33m]\u001b[0m \u001b[1;33m+=\u001b[0m \u001b[1;36m1\u001b[0m\u001b[1;33m\u001b[0m\u001b[0m\n\u001b[1;32m--> 289\u001b[1;33m         \u001b[1;32mreturn\u001b[0m \u001b[0mfunction\u001b[0m\u001b[1;33m(\u001b[0m\u001b[1;33m*\u001b[0m\u001b[1;33m(\u001b[0m\u001b[0mwrapper_args\u001b[0m \u001b[1;33m+\u001b[0m \u001b[0margs\u001b[0m\u001b[1;33m)\u001b[0m\u001b[1;33m)\u001b[0m\u001b[1;33m\u001b[0m\u001b[0m\n\u001b[0m\u001b[0;32m    290\u001b[0m \u001b[1;33m\u001b[0m\u001b[0m\n\u001b[0;32m    291\u001b[0m     \u001b[1;32mreturn\u001b[0m \u001b[0mncalls\u001b[0m\u001b[1;33m,\u001b[0m \u001b[0mfunction_wrapper\u001b[0m\u001b[1;33m\u001b[0m\u001b[0m\n",
      "\u001b[1;32m/usr/local/lib/python3.5/dist-packages/pymc/NormalApproximation.py\u001b[0m in \u001b[0;36mfunc\u001b[1;34m(self, p)\u001b[0m\n\u001b[0;32m    384\u001b[0m         \u001b[0mself\u001b[0m\u001b[1;33m.\u001b[0m\u001b[0m_set_stochastics\u001b[0m\u001b[1;33m(\u001b[0m\u001b[0mp\u001b[0m\u001b[1;33m)\u001b[0m\u001b[1;33m\u001b[0m\u001b[0m\n\u001b[0;32m    385\u001b[0m         \u001b[1;32mtry\u001b[0m\u001b[1;33m:\u001b[0m\u001b[1;33m\u001b[0m\u001b[0m\n\u001b[1;32m--> 386\u001b[1;33m             \u001b[1;32mreturn\u001b[0m \u001b[1;33m-\u001b[0m\u001b[1;36m1.\u001b[0m \u001b[1;33m*\u001b[0m \u001b[0mself\u001b[0m\u001b[1;33m.\u001b[0m\u001b[0mlogp\u001b[0m\u001b[1;33m\u001b[0m\u001b[0m\n\u001b[0m\u001b[0;32m    387\u001b[0m         \u001b[1;32mexcept\u001b[0m \u001b[0mZeroProbability\u001b[0m\u001b[1;33m:\u001b[0m\u001b[1;33m\u001b[0m\u001b[0m\n\u001b[0;32m    388\u001b[0m             \u001b[1;32mreturn\u001b[0m \u001b[0mInf\u001b[0m\u001b[1;33m\u001b[0m\u001b[0m\n",
      "\u001b[1;32m/usr/local/lib/python3.5/dist-packages/pymc/Node.py\u001b[0m in \u001b[0;36m_get_logp\u001b[1;34m(self)\u001b[0m\n\u001b[0;32m    416\u001b[0m         \u001b[1;31m# Return total log-probabilities from all elements\u001b[0m\u001b[1;33m\u001b[0m\u001b[1;33m\u001b[0m\u001b[0m\n\u001b[0;32m    417\u001b[0m         return logp_of_set(\n\u001b[1;32m--> 418\u001b[1;33m             self.stochastics | self.potentials | self.observed_stochastics)\n\u001b[0m\u001b[0;32m    419\u001b[0m \u001b[1;33m\u001b[0m\u001b[0m\n\u001b[0;32m    420\u001b[0m     \u001b[1;31m# Define log-probability property\u001b[0m\u001b[1;33m\u001b[0m\u001b[1;33m\u001b[0m\u001b[0m\n",
      "\u001b[1;32m/usr/local/lib/python3.5/dist-packages/pymc/Node.py\u001b[0m in \u001b[0;36mlogp_of_set\u001b[1;34m(s)\u001b[0m\n\u001b[0;32m     37\u001b[0m         \u001b[1;32mreturn\u001b[0m \u001b[0mlogp\u001b[0m\u001b[1;33m\u001b[0m\u001b[0m\n\u001b[0;32m     38\u001b[0m     \u001b[1;32melse\u001b[0m\u001b[1;33m:\u001b[0m\u001b[1;33m\u001b[0m\u001b[0m\n\u001b[1;32m---> 39\u001b[1;33m         \u001b[0msix\u001b[0m\u001b[1;33m.\u001b[0m\u001b[0mreraise\u001b[0m\u001b[1;33m(\u001b[0m\u001b[1;33m*\u001b[0m\u001b[0mexc\u001b[0m\u001b[1;33m)\u001b[0m\u001b[1;33m\u001b[0m\u001b[0m\n\u001b[0m\u001b[0;32m     40\u001b[0m \u001b[1;33m\u001b[0m\u001b[0m\n\u001b[0;32m     41\u001b[0m \u001b[1;33m\u001b[0m\u001b[0m\n",
      "\u001b[1;32m/usr/local/lib/python3.5/dist-packages/pymc/six.py\u001b[0m in \u001b[0;36mreraise\u001b[1;34m(tp, value, tb)\u001b[0m\n\u001b[0;32m    617\u001b[0m         \u001b[1;32mif\u001b[0m \u001b[0mvalue\u001b[0m\u001b[1;33m.\u001b[0m\u001b[0m__traceback__\u001b[0m \u001b[1;32mis\u001b[0m \u001b[1;32mnot\u001b[0m \u001b[0mtb\u001b[0m\u001b[1;33m:\u001b[0m\u001b[1;33m\u001b[0m\u001b[0m\n\u001b[0;32m    618\u001b[0m             \u001b[1;32mraise\u001b[0m \u001b[0mvalue\u001b[0m\u001b[1;33m.\u001b[0m\u001b[0mwith_traceback\u001b[0m\u001b[1;33m(\u001b[0m\u001b[0mtb\u001b[0m\u001b[1;33m)\u001b[0m\u001b[1;33m\u001b[0m\u001b[0m\n\u001b[1;32m--> 619\u001b[1;33m         \u001b[1;32mraise\u001b[0m \u001b[0mvalue\u001b[0m\u001b[1;33m\u001b[0m\u001b[0m\n\u001b[0m\u001b[0;32m    620\u001b[0m \u001b[1;33m\u001b[0m\u001b[0m\n\u001b[0;32m    621\u001b[0m \u001b[1;32melse\u001b[0m\u001b[1;33m:\u001b[0m\u001b[1;33m\u001b[0m\u001b[0m\n",
      "\u001b[1;32m/usr/local/lib/python3.5/dist-packages/pymc/Node.py\u001b[0m in \u001b[0;36mlogp_of_set\u001b[1;34m(s)\u001b[0m\n\u001b[0;32m     28\u001b[0m     \u001b[1;32mfor\u001b[0m \u001b[0mobj\u001b[0m \u001b[1;32min\u001b[0m \u001b[0ms\u001b[0m\u001b[1;33m:\u001b[0m\u001b[1;33m\u001b[0m\u001b[0m\n\u001b[0;32m     29\u001b[0m         \u001b[1;32mtry\u001b[0m\u001b[1;33m:\u001b[0m\u001b[1;33m\u001b[0m\u001b[0m\n\u001b[1;32m---> 30\u001b[1;33m             \u001b[0mlogp\u001b[0m \u001b[1;33m+=\u001b[0m \u001b[0mobj\u001b[0m\u001b[1;33m.\u001b[0m\u001b[0mlogp\u001b[0m\u001b[1;33m\u001b[0m\u001b[0m\n\u001b[0m\u001b[0;32m     31\u001b[0m         \u001b[1;32mexcept\u001b[0m \u001b[0mZeroProbability\u001b[0m\u001b[1;33m:\u001b[0m\u001b[1;33m\u001b[0m\u001b[0m\n\u001b[0;32m     32\u001b[0m             \u001b[1;32mraise\u001b[0m\u001b[1;33m\u001b[0m\u001b[0m\n",
      "\u001b[1;32m/usr/local/lib/python3.5/dist-packages/pymc/PyMCObjects.py\u001b[0m in \u001b[0;36mget_logp\u001b[1;34m(self)\u001b[0m\n\u001b[0;32m    908\u001b[0m         \u001b[1;32mif\u001b[0m \u001b[0mself\u001b[0m\u001b[1;33m.\u001b[0m\u001b[0mverbose\u001b[0m \u001b[1;33m>\u001b[0m \u001b[1;36m0\u001b[0m\u001b[1;33m:\u001b[0m\u001b[1;33m\u001b[0m\u001b[0m\n\u001b[0;32m    909\u001b[0m             \u001b[0mprint_\u001b[0m\u001b[1;33m(\u001b[0m\u001b[1;34m'\\t'\u001b[0m \u001b[1;33m+\u001b[0m \u001b[0mself\u001b[0m\u001b[1;33m.\u001b[0m\u001b[0m__name__\u001b[0m \u001b[1;33m+\u001b[0m \u001b[1;34m': logp accessed.'\u001b[0m\u001b[1;33m)\u001b[0m\u001b[1;33m\u001b[0m\u001b[0m\n\u001b[1;32m--> 910\u001b[1;33m         \u001b[0mlogp\u001b[0m \u001b[1;33m=\u001b[0m \u001b[0mself\u001b[0m\u001b[1;33m.\u001b[0m\u001b[0m_logp\u001b[0m\u001b[1;33m.\u001b[0m\u001b[0mget\u001b[0m\u001b[1;33m(\u001b[0m\u001b[1;33m)\u001b[0m\u001b[1;33m\u001b[0m\u001b[0m\n\u001b[0m\u001b[0;32m    911\u001b[0m \u001b[1;33m\u001b[0m\u001b[0m\n\u001b[0;32m    912\u001b[0m         \u001b[1;32mtry\u001b[0m\u001b[1;33m:\u001b[0m\u001b[1;33m\u001b[0m\u001b[0m\n",
      "\u001b[1;32mLazyFunction.pyx\u001b[0m in \u001b[0;36mpymc.LazyFunction.LazyFunction.get (pymc/LazyFunction.c:2568)\u001b[1;34m()\u001b[0m\n",
      "\u001b[1;32m/home/ctorney/workspace/dolphinUnion/analysis/movement/model_selection/networkModel.py\u001b[0m in \u001b[0;36mmoves\u001b[1;34m(social, rm, re, al, be, sv, value)\u001b[0m\n\u001b[0;32m     62\u001b[0m     \u001b[1;31m# this is the main function that calculates the log probability of all the moves based on the parameters that are passed in\u001b[0m\u001b[1;33m\u001b[0m\u001b[1;33m\u001b[0m\u001b[0m\n\u001b[0;32m     63\u001b[0m     \u001b[1;31m# and the assumed interaction function\u001b[0m\u001b[1;33m\u001b[0m\u001b[1;33m\u001b[0m\u001b[0m\n\u001b[1;32m---> 64\u001b[1;33m     \u001b[0msvv\u001b[0m \u001b[1;33m=\u001b[0m \u001b[0mnp\u001b[0m\u001b[1;33m.\u001b[0m\u001b[0marctan2\u001b[0m\u001b[1;33m(\u001b[0m\u001b[0msv\u001b[0m\u001b[1;33m[\u001b[0m\u001b[1;33m:\u001b[0m\u001b[1;33m,\u001b[0m\u001b[1;36m1\u001b[0m\u001b[1;33m]\u001b[0m\u001b[1;33m,\u001b[0m\u001b[0msv\u001b[0m\u001b[1;33m[\u001b[0m\u001b[1;33m:\u001b[0m\u001b[1;33m,\u001b[0m\u001b[1;36m0\u001b[0m\u001b[1;33m]\u001b[0m\u001b[1;33m)\u001b[0m\u001b[1;33m\u001b[0m\u001b[0m\n\u001b[0m\u001b[0;32m     65\u001b[0m     \u001b[0mals\u001b[0m \u001b[1;33m=\u001b[0m \u001b[0mal\u001b[0m\u001b[1;33m*\u001b[0m\u001b[0mnp\u001b[0m\u001b[1;33m.\u001b[0m\u001b[0mones_like\u001b[0m\u001b[1;33m(\u001b[0m\u001b[0msvv\u001b[0m\u001b[1;33m)\u001b[0m\u001b[1;33m\u001b[0m\u001b[0m\n\u001b[0;32m     66\u001b[0m     \u001b[0mals\u001b[0m\u001b[1;33m[\u001b[0m\u001b[1;33m(\u001b[0m\u001b[0msv\u001b[0m\u001b[1;33m[\u001b[0m\u001b[1;33m:\u001b[0m\u001b[1;33m,\u001b[0m\u001b[1;36m1\u001b[0m\u001b[1;33m]\u001b[0m\u001b[1;33m==\u001b[0m\u001b[1;36m0\u001b[0m\u001b[1;33m)\u001b[0m\u001b[1;33m&\u001b[0m\u001b[1;33m(\u001b[0m\u001b[0msv\u001b[0m\u001b[1;33m[\u001b[0m\u001b[1;33m:\u001b[0m\u001b[1;33m,\u001b[0m\u001b[1;36m0\u001b[0m\u001b[1;33m]\u001b[0m\u001b[1;33m==\u001b[0m\u001b[1;36m0\u001b[0m\u001b[1;33m)\u001b[0m\u001b[1;33m]\u001b[0m\u001b[1;33m=\u001b[0m\u001b[1;36m0\u001b[0m\u001b[1;33m\u001b[0m\u001b[0m\n",
      "\u001b[1;31mKeyboardInterrupt\u001b[0m: "
     ]
    }
   ],
   "source": [
    "import networkModel\n",
    "\n",
    "networkModel.netcount=1\n",
    "\n",
    "NM = MAP(networkModel)\n",
    "NM.fit(method ='fmin', iterlim=100000, tol=.000001)\n",
    "print('==== 1 neighbour ====')\n",
    "print(NM.AIC)\n",
    "print(NM.BIC)\n",
    "\n",
    "print(NM.interaction_angle.value)\n",
    "\n",
    "print(NM.rho_s.value)\n",
    "print(NM.rho_m.value) \n",
    "print(NM.rho_e.value) \n",
    "print(NM.alpha.value) \n",
    "print(NM.beta.value)\n",
    "\n",
    "networkModel.netcount=3\n",
    "\n",
    "NM = MAP(networkModel)\n",
    "NM.fit(method ='fmin', iterlim=100000, tol=.000001)\n",
    "print('==== 3 neighbours ====')\n",
    "print(NM.AIC)\n",
    "print(NM.BIC)\n",
    "\n",
    "print(NM.interaction_angle.value)\n",
    "\n",
    "print(NM.rho_s.value)\n",
    "print(NM.rho_m.value) \n",
    "print(NM.rho_e.value) \n",
    "print(NM.alpha.value) \n",
    "print(NM.beta.value)\n",
    "\n",
    "networkModel.netcount=5\n",
    "\n",
    "NM = MAP(networkModel)\n",
    "NM.fit(method ='fmin', iterlim=100000, tol=.000001)\n",
    "print('==== 5 neighbours ====')\n",
    "print(NM.AIC)\n",
    "print(NM.BIC)\n",
    "\n",
    "print(NM.interaction_angle.value)\n",
    "\n",
    "print(NM.rho_s.value)\n",
    "print(NM.rho_m.value) \n",
    "print(NM.rho_e.value) \n",
    "print(NM.alpha.value) \n",
    "print(NM.beta.value)\n",
    "\n",
    "networkModel.netcount=7\n",
    "\n",
    "NM = MAP(networkModel)\n",
    "NM.fit(method ='fmin', iterlim=100000, tol=.000001)\n",
    "print('==== 7 neighbours ====')\n",
    "print(NM.AIC)\n",
    "print(NM.BIC)\n",
    "\n",
    "print(NM.interaction_angle.value)\n",
    "\n",
    "print(NM.rho_s.value)\n",
    "print(NM.rho_m.value) \n",
    "print(NM.rho_e.value) \n",
    "print(NM.alpha.value) \n",
    "print(NM.beta.value)\n",
    "\n",
    "networkModel.netcount=9\n",
    "\n",
    "NM = MAP(networkModel)\n",
    "NM.fit(method ='fmin', iterlim=100000, tol=.000001)\n",
    "print('==== 9 neighbours ====')\n",
    "print(NM.AIC)\n",
    "print(NM.BIC)\n",
    "\n",
    "print(NM.interaction_angle.value)\n",
    "\n",
    "print(NM.rho_s.value)\n",
    "print(NM.rho_m.value) \n",
    "print(NM.rho_e.value) \n",
    "print(NM.alpha.value) \n",
    "print(NM.beta.value)"
   ]
  },
  {
   "cell_type": "markdown",
   "metadata": {
    "collapsed": true
   },
   "source": [
    "Model 6\n",
    "--------\n",
    "\n",
    "Social vector is the average of relative positions to all neighbours and their headings within a network interaction range\n",
    "\n",
    "$I_D$ is the maximum number of neighbours\n",
    "\n",
    "$I_A$ is the maximum interaction angle either side of the centre of the animal\n",
    "\n"
   ]
  },
  {
   "cell_type": "code",
   "execution_count": null,
   "metadata": {
    "collapsed": false
   },
   "outputs": [],
   "source": [
    "import networkModelAlign\n",
    "\n",
    "networkModelAlign.netcount=1\n",
    "\n",
    "NM = MAP(networkModelAlign)\n",
    "NM.fit(method ='fmin', iterlim=100000, tol=.000001)\n",
    "print('==== 1 neighbour ====')\n",
    "print(NM.AIC)\n",
    "print(NM.BIC)\n",
    "\n",
    "print(NM.interaction_angle.value)\n",
    "print(NM.align_weight.value)\n",
    "\n",
    "print(NM.rho_s.value)\n",
    "print(NM.rho_m.value) \n",
    "print(NM.rho_e.value) \n",
    "print(NM.alpha.value) \n",
    "print(NM.beta.value)\n",
    "\n",
    "networkModelAlign.netcount=3\n",
    "\n",
    "NM = MAP(networkModelAlign)\n",
    "NM.fit(method ='fmin', iterlim=100000, tol=.000001)\n",
    "print('==== 3 neighbours ====')\n",
    "print(NM.AIC)\n",
    "print(NM.BIC)\n",
    "\n",
    "print(NM.interaction_angle.value)\n",
    "print(NM.align_weight.value)\n",
    "\n",
    "print(NM.rho_s.value)\n",
    "print(NM.rho_m.value) \n",
    "print(NM.rho_e.value) \n",
    "print(NM.alpha.value) \n",
    "print(NM.beta.value)\n",
    "\n",
    "networkModelAlign.netcount=5\n",
    "\n",
    "NM = MAP(networkModelAlign)\n",
    "NM.fit(method ='fmin', iterlim=100000, tol=.000001)\n",
    "print('==== 5 neighbours ====')\n",
    "print(NM.AIC)\n",
    "print(NM.BIC)\n",
    "\n",
    "print(NM.interaction_angle.value)\n",
    "print(NM.align_weight.value)\n",
    "\n",
    "print(NM.rho_s.value)\n",
    "print(NM.rho_m.value) \n",
    "print(NM.rho_e.value) \n",
    "print(NM.alpha.value) \n",
    "print(NM.beta.value)\n",
    "\n",
    "networkModelAlign.netcount=7\n",
    "\n",
    "NM = MAP(networkModelAlign)\n",
    "NM.fit(method ='fmin', iterlim=100000, tol=.000001)\n",
    "print('==== 7 neighbours ====')\n",
    "print(NM.AIC)\n",
    "print(NM.BIC)\n",
    "\n",
    "print(NM.interaction_angle.value)\n",
    "print(NM.align_weight.value)\n",
    "\n",
    "print(NM.rho_s.value)\n",
    "print(NM.rho_m.value) \n",
    "print(NM.rho_e.value) \n",
    "print(NM.alpha.value) \n",
    "print(NM.beta.value)\n",
    "\n",
    "networkModelAlign.netcount=9\n",
    "\n",
    "NM = MAP(networkModelAlign)\n",
    "NM.fit(method ='fmin', iterlim=100000, tol=.000001)\n",
    "print('==== 9 neighbours ====')\n",
    "print(NM.AIC)\n",
    "print(NM.BIC)\n",
    "\n",
    "print(NM.interaction_angle.value)\n",
    "print(NM.align_weight.value)\n",
    "\n",
    "print(NM.rho_s.value)\n",
    "print(NM.rho_m.value) \n",
    "print(NM.rho_e.value) \n",
    "print(NM.alpha.value) \n",
    "print(NM.beta.value)"
   ]
  },
  {
   "cell_type": "code",
   "execution_count": null,
   "metadata": {
    "collapsed": false
   },
   "outputs": [],
   "source": [
    "print(CM.rep_len.value)"
   ]
  },
  {
   "cell_type": "code",
   "execution_count": null,
   "metadata": {
    "collapsed": true
   },
   "outputs": [],
   "source": []
  }
 ],
 "metadata": {
  "kernelspec": {
   "display_name": "Python 3",
   "language": "python",
   "name": "python3"
  },
  "language_info": {
   "codemirror_mode": {
    "name": "ipython",
    "version": 3
   },
   "file_extension": ".py",
   "mimetype": "text/x-python",
   "name": "python",
   "nbconvert_exporter": "python",
   "pygments_lexer": "ipython3",
   "version": "3.5.1+"
  }
 },
 "nbformat": 4,
 "nbformat_minor": 0
}
