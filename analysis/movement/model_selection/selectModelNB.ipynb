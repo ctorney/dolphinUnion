{
 "cells": [
  {
   "cell_type": "code",
   "execution_count": 2,
   "metadata": {
    "collapsed": false
   },
   "outputs": [],
   "source": [
    "import pymc\n",
    "from pymc import MAP"
   ]
  },
  {
   "cell_type": "markdown",
   "metadata": {},
   "source": [
    "Basic model - correlated random walk\n",
    "====================\n",
    "parameters\n",
    "-------------- \n",
    "$\\rho_m$ - Cauchy parameter that specifies degree of correlation between successive steps"
   ]
  },
  {
   "cell_type": "code",
   "execution_count": 2,
   "metadata": {
    "collapsed": false
   },
   "outputs": [
    {
     "name": "stdout",
     "output_type": "stream",
     "text": [
      "932.1368440494012\n",
      "940.112698774\n",
      "0.9137298583984386\n"
     ]
    }
   ],
   "source": [
    "import corRandomWalk\n",
    "\n",
    "CRW = MAP(corRandomWalk)\n",
    "CRW.fit(method ='fmin', iterlim=100000, tol=.000001)\n",
    "\n",
    "print(CRW.AIC)\n",
    "print(CRW.BIC)\n",
    "print(CRW.rho_m.value) \n"
   ]
  },
  {
   "cell_type": "markdown",
   "metadata": {},
   "source": [
    "Environment model\n",
    "==========\n",
    "parameters\n",
    "-----------\n",
    "$\\rho_m$ - Cauchy parameter that specifies degree of correlation between successive steps\n",
    "\n",
    "$\\rho_e$ - parameter that relates assumed environmental features to heading\n",
    "\n",
    "$\\beta$ - relative weighting of Cauchy distributions"
   ]
  },
  {
   "cell_type": "code",
   "execution_count": 13,
   "metadata": {
    "collapsed": false
   },
   "outputs": [
    {
     "name": "stdout",
     "output_type": "stream",
     "text": [
      "-650.006703924977\n",
      "-626.079139751\n",
      "0.920939454340614\n",
      "0.930025284287195\n",
      "0.13602543164225192\n"
     ]
    }
   ],
   "source": [
    "import environment\n",
    "\n",
    "E = MAP(environment)\n",
    "E.fit(method ='fmin', iterlim=100000, tol=.000001)\n",
    "print(E.AIC)\n",
    "print(E.BIC)\n",
    "\n",
    "print(E.rho_m.value) \n",
    "print(E.rho_e.value) \n",
    "print(E.beta.value)\n"
   ]
  },
  {
   "cell_type": "markdown",
   "metadata": {},
   "source": [
    "Social models\n",
    "========\n",
    "\n",
    "All models use the following parameters\n",
    "\n",
    "$\\rho_s$ - bias in Caucy distribution (how predictive of movement step is social vector)\n",
    "\n",
    "$\\rho_m$ - Cauchy parameter that specifies degree of correlation between successive steps\n",
    "\n",
    "$\\rho_e$ - parameter that relates assumed environmental features to heading\n",
    "\n",
    "$\\alpha$ - relative weighting of social to env/persistence distributions\n",
    "\n",
    "$\\beta$ - relative weighting of env and persistence distributions\n"
   ]
  },
  {
   "cell_type": "markdown",
   "metadata": {},
   "source": [
    "Social interaction rules\n",
    "=============\n",
    "\n",
    "Model 1\n",
    "--------\n",
    "\n",
    "Social vector is the average of relative positions to all neighbours within a constant interaction range\n",
    "\n",
    "$I_D$ is the maximum interaction distance\n",
    "\n",
    "$I_A$ is the maximum interaction angle either side of the centre of the animal\n",
    "\n"
   ]
  },
  {
   "cell_type": "code",
   "execution_count": 15,
   "metadata": {
    "collapsed": false
   },
   "outputs": [
    {
     "name": "stdout",
     "output_type": "stream",
     "text": [
      "-2076.7135600814972\n",
      "-2020.88257701\n",
      "0.9627325043496948\n",
      "0.9181516219238316\n",
      "0.9178712833731949\n",
      "0.36425471003163823\n",
      "0.13655614710262215\n",
      "14.331154569328536\n",
      "0.20212896922042972\n"
     ]
    }
   ],
   "source": [
    "import constantModel\n",
    "CM = MAP(constantModel)\n",
    "CM.fit(method ='fmin', iterlim=100000, tol=.000001)\n",
    "print(CM.AIC)\n",
    "print(CM.BIC)\n",
    "\n",
    "print(CM.rho_s.value)\n",
    "print(CM.rho_m.value) \n",
    "print(CM.rho_e.value) \n",
    "print(CM.alpha.value) \n",
    "print(CM.beta.value)\n",
    "\n",
    "print(CM.interaction_length.value)\n",
    "print(CM.interaction_angle.value)"
   ]
  },
  {
   "cell_type": "markdown",
   "metadata": {},
   "source": [
    "Model 2\n",
    "--------\n",
    "\n",
    "Social vector is the weighted average of relative positions to all neighbours and their relative headings within two constant interaction ranges\n",
    "\n",
    "$At_D$ is the maximum attraction distance\n",
    "\n",
    "$At_A$ is the maximum attraction angle either side of the centre of the animal\n",
    "\n",
    "$Al_D$ is the maximum alignment distance\n",
    "\n",
    "$Al_A$ is the maximum alignment angle either side of the centre of the animal\n",
    "\n",
    "$Al_W$ is the relative weight of attraction and alignment\n",
    "\n",
    "\n"
   ]
  },
  {
   "cell_type": "code",
   "execution_count": 18,
   "metadata": {
    "collapsed": false
   },
   "outputs": [
    {
     "name": "stdout",
     "output_type": "stream",
     "text": [
      "-2472.1987059584194\n",
      "-2392.44015871\n",
      "8.407766800343715\n",
      "0.20212899166221543\n",
      "2.753056805902899\n",
      "0.40682421282655995\n",
      "0.6894110758197198\n",
      "0.9677542388223603\n",
      "0.9195213800197801\n",
      "0.9163704480989239\n",
      "0.4044741996319804\n",
      "0.1377115396598258\n"
     ]
    }
   ],
   "source": [
    "import constantModelAlign\n",
    "\n",
    "CMA = MAP(constantModelAlign)\n",
    "CMA.fit(method ='fmin', iterlim=100000, tol=.000001)\n",
    "print(CMA.AIC)\n",
    "print(CMA.BIC)\n",
    "\n",
    "print(CMA.attract_length.value)\n",
    "print(CMA.attract_angle.value)\n",
    "print(CMA.align_length.value)\n",
    "print(CMA.align_angle.value)\n",
    "print(CMA.align_weight.value)\n",
    "\n",
    "print(CMA.rho_s.value)\n",
    "print(CMA.rho_m.value) \n",
    "print(CMA.rho_e.value) \n",
    "print(CMA.alpha.value) \n",
    "print(CMA.beta.value)\n"
   ]
  },
  {
   "cell_type": "markdown",
   "metadata": {},
   "source": [
    "Model 3\n",
    "--------\n",
    "\n",
    "Social vector is the average of relative positions to all neighbours weighted according to an exponential decay\n",
    "\n",
    "$I_A$ is the maximum attraction angle either side of the centre of the animal\n",
    "\n",
    "The weighting given to each neighbour is \n",
    "\n",
    "$\\omega_i =  \\exp\\left(-\\left(\\frac{D}{I_D}\\right)^\\gamma\\right)$\n",
    "\n",
    "$\\gamma$ decay exponent\n",
    "\n",
    "$I_D$ peak distance\n",
    "\n"
   ]
  },
  {
   "cell_type": "code",
   "execution_count": 7,
   "metadata": {
    "collapsed": false
   },
   "outputs": [
    {
     "name": "stdout",
     "output_type": "stream",
     "text": [
      "-2144.72900766277\n",
      "-2080.92216987\n",
      "1.1016473316294684\n",
      "4.873791784426524\n",
      "0.18773855544699863\n"
     ]
    }
   ],
   "source": [
    "import decayModel\n",
    "\n",
    "DM = MAP(decayModel)\n",
    "DM.fit(method ='fmin', iterlim=100000, tol=.000001)\n",
    "print(DM.AIC)\n",
    "print(DM.BIC)\n",
    "\n",
    "print(DM.decay_exponent.value)\n",
    "print(DM.interaction_length.value)\n",
    "print(DM.interaction_angle.value)\n",
    "\n"
   ]
  },
  {
   "cell_type": "markdown",
   "metadata": {},
   "source": [
    "Model 4\n",
    "--------\n",
    "\n",
    "Social vector is the weighted average of relative positions to all neighbours and their relative headings within two constant interaction ranges, both weighted with an exponential decay according to distance\n",
    "\n",
    "\n",
    "\n",
    "$At_A$ is the maximum attraction angle either side of the centre of the animal\n",
    "\n",
    "\n",
    "\n",
    "$Al_A$ is the maximum alignment angle either side of the centre of the animal\n",
    "\n",
    "$Al_W$ is the relative weight of attraction and alignment\n",
    "\n",
    "The weighting given to each neighbour is \n",
    "\n",
    "$\\omega_i =  \\exp\\left(-\\left(\\frac{D_i}{At_D}\\right)^{\\gamma_{At}}\\right)$\n",
    "\n",
    "$\\gamma$ decay exponent\n",
    "\n",
    "$At_D$ is the peak attraction distance\n",
    "$Al_D$ is the peak alignment distance"
   ]
  },
  {
   "cell_type": "code",
   "execution_count": 10,
   "metadata": {
    "collapsed": false
   },
   "outputs": [
    {
     "name": "stdout",
     "output_type": "stream",
     "text": [
      "-2511.956533027883\n",
      "-2416.24627633\n",
      "0.9171869759850662\n",
      "6.690991118377709\n",
      "0.21108824161023462\n",
      "1.2578776204482347\n",
      "2.7707346678285836\n",
      "0.3909989514378046\n",
      "0.5650215768271314\n",
      "0.9682037368898544\n",
      "0.9185083947923272\n",
      "0.9188346320563665\n",
      "0.4521472041471026\n",
      "0.13005327943853906\n"
     ]
    }
   ],
   "source": [
    "import decayModelAlign\n",
    "\n",
    "DMA = MAP(decayModelAlign)\n",
    "DMA.fit(method ='fmin', iterlim=100000, tol=.000001)\n",
    "print(DMA.AIC)\n",
    "print(DMA.BIC)\n",
    "\n",
    "print(DMA.attract_exponent.value)\n",
    "print(DMA.attract_length.value)\n",
    "print(DMA.attract_angle.value)\n",
    "\n",
    "print(DMA.align_exponent.value)\n",
    "print(DMA.align_length.value)\n",
    "print(DMA.align_angle.value)\n",
    "print(DMA.align_weight.value)\n",
    "\n",
    "print(DMA.rho_s.value)\n",
    "print(DMA.rho_m.value) \n",
    "print(DMA.rho_e.value) \n",
    "print(DMA.alpha.value) \n",
    "print(DMA.beta.value)"
   ]
  },
  {
   "cell_type": "markdown",
   "metadata": {
    "collapsed": false
   },
   "source": [
    "Model 5\n",
    "--------\n",
    "\n",
    "Social vector is the average of relative positions to all neighbours within a network interaction range\n",
    "\n",
    "$I_D$ is the maximum number of neighbours\n",
    "\n",
    "$I_A$ is the maximum interaction angle either side of the centre of the animal\n",
    "\n"
   ]
  },
  {
   "cell_type": "code",
   "execution_count": 7,
   "metadata": {
    "collapsed": false
   },
   "outputs": [
    {
     "name": "stdout",
     "output_type": "stream",
     "text": [
      "==== 1 neighbour ====\n",
      "-1448.1058825280934\n",
      "-1392.27489946\n",
      "0.25080774774081405\n",
      "0.9476951051471898\n",
      "0.9217891133117635\n",
      "0.9218570466328706\n",
      "0.24147056955447233\n",
      "0.1603137472077119\n",
      "==== 3 neighbours ====\n",
      "-1348.9112588468624\n",
      "-1293.08027577\n",
      "0.3121109451539883\n",
      "0.9408253813124969\n",
      "0.9204991213910412\n",
      "0.9232565025489268\n",
      "0.2983571717530433\n",
      "0.17302045740061195\n",
      "==== 5 neighbours ====\n",
      "-1210.0458681217813\n",
      "-1154.21488505\n",
      "0.31310997744148117\n",
      "0.9386676791560082\n",
      "0.9194687528046701\n",
      "0.9235537780578142\n",
      "0.3107741046206546\n",
      "0.17649338486028304\n",
      "==== 7 neighbours ====\n",
      "-1124.7917279040944\n",
      "-1068.96074483\n",
      "0.313110008754539\n",
      "0.9359461513008158\n",
      "0.919598662935488\n",
      "0.9242792066752517\n",
      "0.31895529765018044\n",
      "0.18385785421244505\n",
      "==== 9 neighbours ====\n",
      "-1065.8564584207534\n",
      "-1010.02547535\n",
      "0.2903205879303373\n",
      "0.9311238276822368\n",
      "0.9209704029034127\n",
      "0.9244427712625441\n",
      "0.35002724285714726\n",
      "0.194167315640924\n"
     ]
    }
   ],
   "source": [
    "import networkModel\n",
    "\n",
    "networkModel.netcount=1\n",
    "\n",
    "NM = MAP(networkModel)\n",
    "NM.fit(method ='fmin', iterlim=100000, tol=.000001)\n",
    "print('==== 1 neighbour ====')\n",
    "print(NM.AIC)\n",
    "print(NM.BIC)\n",
    "\n",
    "print(NM.interaction_angle.value)\n",
    "\n",
    "print(NM.rho_s.value)\n",
    "print(NM.rho_m.value) \n",
    "print(NM.rho_e.value) \n",
    "print(NM.alpha.value) \n",
    "print(NM.beta.value)\n",
    "\n",
    "networkModel.netcount=3\n",
    "\n",
    "NM = MAP(networkModel)\n",
    "NM.fit(method ='fmin', iterlim=100000, tol=.000001)\n",
    "print('==== 3 neighbours ====')\n",
    "print(NM.AIC)\n",
    "print(NM.BIC)\n",
    "\n",
    "print(NM.interaction_angle.value)\n",
    "\n",
    "print(NM.rho_s.value)\n",
    "print(NM.rho_m.value) \n",
    "print(NM.rho_e.value) \n",
    "print(NM.alpha.value) \n",
    "print(NM.beta.value)\n",
    "\n",
    "networkModel.netcount=5\n",
    "\n",
    "NM = MAP(networkModel)\n",
    "NM.fit(method ='fmin', iterlim=100000, tol=.000001)\n",
    "print('==== 5 neighbours ====')\n",
    "print(NM.AIC)\n",
    "print(NM.BIC)\n",
    "\n",
    "print(NM.interaction_angle.value)\n",
    "\n",
    "print(NM.rho_s.value)\n",
    "print(NM.rho_m.value) \n",
    "print(NM.rho_e.value) \n",
    "print(NM.alpha.value) \n",
    "print(NM.beta.value)\n",
    "\n",
    "networkModel.netcount=7\n",
    "\n",
    "NM = MAP(networkModel)\n",
    "NM.fit(method ='fmin', iterlim=100000, tol=.000001)\n",
    "print('==== 7 neighbours ====')\n",
    "print(NM.AIC)\n",
    "print(NM.BIC)\n",
    "\n",
    "print(NM.interaction_angle.value)\n",
    "\n",
    "print(NM.rho_s.value)\n",
    "print(NM.rho_m.value) \n",
    "print(NM.rho_e.value) \n",
    "print(NM.alpha.value) \n",
    "print(NM.beta.value)\n",
    "\n",
    "networkModel.netcount=9\n",
    "\n",
    "NM = MAP(networkModel)\n",
    "NM.fit(method ='fmin', iterlim=100000, tol=.000001)\n",
    "print('==== 9 neighbours ====')\n",
    "print(NM.AIC)\n",
    "print(NM.BIC)\n",
    "\n",
    "print(NM.interaction_angle.value)\n",
    "\n",
    "print(NM.rho_s.value)\n",
    "print(NM.rho_m.value) \n",
    "print(NM.rho_e.value) \n",
    "print(NM.alpha.value) \n",
    "print(NM.beta.value)"
   ]
  },
  {
   "cell_type": "markdown",
   "metadata": {
    "collapsed": true
   },
   "source": [
    "Model 6\n",
    "--------\n",
    "\n",
    "Social vector is the average of relative positions to all neighbours and their headings within a network interaction range\n",
    "\n",
    "$I_D$ is the maximum number of neighbours\n",
    "\n",
    "$I_A$ is the maximum interaction angle either side of the centre of the animal\n",
    "\n"
   ]
  },
  {
   "cell_type": "code",
   "execution_count": 1,
   "metadata": {
    "collapsed": false
   },
   "outputs": [
    {
     "ename": "NameError",
     "evalue": "name 'MAP' is not defined",
     "output_type": "error",
     "traceback": [
      "\u001b[1;31m---------------------------------------------------------------------------\u001b[0m",
      "\u001b[1;31mNameError\u001b[0m                                 Traceback (most recent call last)",
      "\u001b[1;32m<ipython-input-1-b192d76888e3>\u001b[0m in \u001b[0;36m<module>\u001b[1;34m()\u001b[0m\n\u001b[0;32m      3\u001b[0m \u001b[0mnetworkModelAlign\u001b[0m\u001b[1;33m.\u001b[0m\u001b[0mnetcount\u001b[0m\u001b[1;33m=\u001b[0m\u001b[1;36m1\u001b[0m\u001b[1;33m\u001b[0m\u001b[0m\n\u001b[0;32m      4\u001b[0m \u001b[1;33m\u001b[0m\u001b[0m\n\u001b[1;32m----> 5\u001b[1;33m \u001b[0mNM\u001b[0m \u001b[1;33m=\u001b[0m \u001b[0mMAP\u001b[0m\u001b[1;33m(\u001b[0m\u001b[0mnetworkModelAlign\u001b[0m\u001b[1;33m)\u001b[0m\u001b[1;33m\u001b[0m\u001b[0m\n\u001b[0m\u001b[0;32m      6\u001b[0m \u001b[0mNM\u001b[0m\u001b[1;33m.\u001b[0m\u001b[0mfit\u001b[0m\u001b[1;33m(\u001b[0m\u001b[0mmethod\u001b[0m \u001b[1;33m=\u001b[0m\u001b[1;34m'fmin'\u001b[0m\u001b[1;33m,\u001b[0m \u001b[0miterlim\u001b[0m\u001b[1;33m=\u001b[0m\u001b[1;36m100000\u001b[0m\u001b[1;33m,\u001b[0m \u001b[0mtol\u001b[0m\u001b[1;33m=\u001b[0m\u001b[1;36m.000001\u001b[0m\u001b[1;33m)\u001b[0m\u001b[1;33m\u001b[0m\u001b[0m\n\u001b[0;32m      7\u001b[0m \u001b[0mprint\u001b[0m\u001b[1;33m(\u001b[0m\u001b[1;34m'==== 1 neighbour ===='\u001b[0m\u001b[1;33m)\u001b[0m\u001b[1;33m\u001b[0m\u001b[0m\n",
      "\u001b[1;31mNameError\u001b[0m: name 'MAP' is not defined"
     ]
    }
   ],
   "source": [
    "import networkModelAlign\n",
    "\n",
    "networkModelAlign.netcount=1\n",
    "\n",
    "NM = MAP(networkModelAlign)\n",
    "NM.fit(method ='fmin', iterlim=100000, tol=.000001)\n",
    "print('==== 1 neighbour ====')\n",
    "print(NM.AIC)\n",
    "print(NM.BIC)\n",
    "\n",
    "print(NM.interaction_angle.value)\n",
    "print(NM.align_weight.value)\n",
    "\n",
    "print(NM.rho_s.value)\n",
    "print(NM.rho_m.value) \n",
    "print(NM.rho_e.value) \n",
    "print(NM.alpha.value) \n",
    "print(NM.beta.value)\n",
    "\n",
    "networkModelAlign.netcount=3\n",
    "\n",
    "NM = MAP(networkModelAlign)\n",
    "NM.fit(method ='fmin', iterlim=100000, tol=.000001)\n",
    "print('==== 3 neighbours ====')\n",
    "print(NM.AIC)\n",
    "print(NM.BIC)\n",
    "\n",
    "print(NM.interaction_angle.value)\n",
    "print(NM.align_weight.value)\n",
    "\n",
    "print(NM.rho_s.value)\n",
    "print(NM.rho_m.value) \n",
    "print(NM.rho_e.value) \n",
    "print(NM.alpha.value) \n",
    "print(NM.beta.value)\n",
    "\n",
    "networkModelAlign.netcount=5\n",
    "\n",
    "NM = MAP(networkModelAlign)\n",
    "NM.fit(method ='fmin', iterlim=100000, tol=.000001)\n",
    "print('==== 5 neighbours ====')\n",
    "print(NM.AIC)\n",
    "print(NM.BIC)\n",
    "\n",
    "print(NM.interaction_angle.value)\n",
    "print(NM.align_weight.value)\n",
    "\n",
    "print(NM.rho_s.value)\n",
    "print(NM.rho_m.value) \n",
    "print(NM.rho_e.value) \n",
    "print(NM.alpha.value) \n",
    "print(NM.beta.value)\n",
    "\n",
    "networkModelAlign.netcount=7\n",
    "\n",
    "NM = MAP(networkModelAlign)\n",
    "NM.fit(method ='fmin', iterlim=100000, tol=.000001)\n",
    "print('==== 7 neighbours ====')\n",
    "print(NM.AIC)\n",
    "print(NM.BIC)\n",
    "\n",
    "print(NM.interaction_angle.value)\n",
    "print(NM.align_weight.value)\n",
    "\n",
    "print(NM.rho_s.value)\n",
    "print(NM.rho_m.value) \n",
    "print(NM.rho_e.value) \n",
    "print(NM.alpha.value) \n",
    "print(NM.beta.value)\n",
    "\n",
    "networkModelAlign.netcount=9\n",
    "\n",
    "NM = MAP(networkModelAlign)\n",
    "NM.fit(method ='fmin', iterlim=100000, tol=.000001)\n",
    "print('==== 9 neighbours ====')\n",
    "print(NM.AIC)\n",
    "print(NM.BIC)\n",
    "\n",
    "print(NM.interaction_angle.value)\n",
    "print(NM.align_weight.value)\n",
    "\n",
    "print(NM.rho_s.value)\n",
    "print(NM.rho_m.value) \n",
    "print(NM.rho_e.value) \n",
    "print(NM.alpha.value) \n",
    "print(NM.beta.value)"
   ]
  },
  {
   "cell_type": "code",
   "execution_count": null,
   "metadata": {
    "collapsed": true
   },
   "outputs": [],
   "source": []
  }
 ],
 "metadata": {
  "kernelspec": {
   "display_name": "Python 3",
   "language": "python",
   "name": "python3"
  },
  "language_info": {
   "codemirror_mode": {
    "name": "ipython",
    "version": 3
   },
   "file_extension": ".py",
   "mimetype": "text/x-python",
   "name": "python",
   "nbconvert_exporter": "python",
   "pygments_lexer": "ipython3",
   "version": "3.5.0+"
  }
 },
 "nbformat": 4,
 "nbformat_minor": 0
}
